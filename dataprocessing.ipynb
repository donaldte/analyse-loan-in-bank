{
 "cells": [
  {
   "cell_type": "code",
   "execution_count": 11,
   "id": "0121a23c",
   "metadata": {},
   "outputs": [],
   "source": [
    "import numpy as np\n",
    "import pandas as pd\n",
    "from numpy.random import shuffle\n",
    "from numpy.random import Generator as gen \n",
    "from numpy.random import PCG64 as pcg\n"
   ]
  },
  {
   "cell_type": "code",
   "execution_count": 16,
   "id": "870aefb2",
   "metadata": {},
   "outputs": [],
   "source": [
    "np.set_printoptions(suppress=True, linewidth=100, precision=2)"
   ]
  },
  {
   "cell_type": "markdown",
   "id": "e536e934",
   "metadata": {},
   "source": [
    "# Importing data"
   ]
  },
  {
   "cell_type": "code",
   "execution_count": 23,
   "id": "fffbe335",
   "metadata": {},
   "outputs": [],
   "source": [
    "raw_data = np.genfromtxt('data/loan-data.csv', delimiter=\";\", skip_header = 1, autostrip = True, encoding = \"cp855\")\n",
    "raw_data"
   ]
  },
  {
   "cell_type": "markdown",
   "id": "2cb92b83",
   "metadata": {},
   "source": [
    "# Checking data"
   ]
  },
  {
   "cell_type": "code",
   "execution_count": 24,
   "id": "17584570",
   "metadata": {},
   "outputs": [
    {
     "data": {
      "text/plain": [
       "88005"
      ]
     },
     "execution_count": 24,
     "metadata": {},
     "output_type": "execute_result"
    }
   ],
   "source": [
    "np.isnan(raw_data).sum()"
   ]
  },
  {
   "cell_type": "code",
   "execution_count": 43,
   "id": "fa1171a9",
   "metadata": {},
   "outputs": [
    {
     "name": "stderr",
     "output_type": "stream",
     "text": [
      "/tmp/ipykernel_1450604/2718681720.py:1: RuntimeWarning: Mean of empty slice\n",
      "  temporary_mean = np.nanmean(raw_data, axis=0)\n",
      "/tmp/ipykernel_1450604/2718681720.py:6: RuntimeWarning: All-NaN slice encountered\n",
      "  temporary_stats = np.array([np.nanmin(raw_data, axis=0), temporary_mean, np.nanmax(raw_data, axis=0)])\n"
     ]
    },
    {
     "data": {
      "text/plain": [
       "array([[  373332.  ,         nan,     1000.  ,         nan,     1000.  ,         nan,        6.  ,\n",
       "              31.42,         nan,         nan,         nan,         nan,         nan,        0.  ],\n",
       "       [54015809.19,         nan,    15273.46,         nan,    15311.04,         nan,       16.62,\n",
       "             440.92,         nan,         nan,         nan,         nan,         nan,     3143.85],\n",
       "       [68616519.  ,         nan,    35000.  ,         nan,    35000.  ,         nan,       28.99,\n",
       "            1372.97,         nan,         nan,         nan,         nan,         nan,    41913.62]])"
      ]
     },
     "execution_count": 43,
     "metadata": {},
     "output_type": "execute_result"
    }
   ],
   "source": [
    "temporary_mean = np.nanmean(raw_data, axis=0)\n",
    "\n",
    "temporary_fill= np.nanmax(raw_data) + 1\n",
    "\n",
    "\n",
    "temporary_stats = np.array([np.nanmin(raw_data, axis=0), temporary_mean, np.nanmax(raw_data, axis=0)])\n",
    "\n",
    "temporary_stats"
   ]
  },
  {
   "cell_type": "markdown",
   "id": "27da40e4",
   "metadata": {},
   "source": [
    "# Splitting "
   ]
  },
  {
   "cell_type": "code",
   "execution_count": 42,
   "id": "1505317d",
   "metadata": {},
   "outputs": [
    {
     "data": {
      "text/plain": [
       "array([ 1,  3,  5,  8,  9, 10, 11, 12])"
      ]
     },
     "execution_count": 42,
     "metadata": {},
     "output_type": "execute_result"
    }
   ],
   "source": [
    "columns_string = np.argwhere(np.isnan(temporary_mean)).squeeze()\n",
    "columns_string"
   ]
  },
  {
   "cell_type": "code",
   "execution_count": 39,
   "id": "a3409f4f",
   "metadata": {},
   "outputs": [
    {
     "data": {
      "text/plain": [
       "array([ 0,  2,  4,  6,  7, 13])"
      ]
     },
     "execution_count": 39,
     "metadata": {},
     "output_type": "execute_result"
    }
   ],
   "source": [
    "columns_numeric = np.argwhere(np.isnan(mean)==False).squeeze()\n",
    "columns_numeric"
   ]
  },
  {
   "cell_type": "markdown",
   "id": "c3315edc",
   "metadata": {},
   "source": [
    "# Re-importing data seprately"
   ]
  },
  {
   "cell_type": "code",
   "execution_count": 112,
   "id": "74a29b8a",
   "metadata": {},
   "outputs": [
    {
     "data": {
      "text/plain": [
       "array([['May-15', 'Current', ' 36 months', ..., 'Verified',\n",
       "        'https://www.lendingclub.com/browse/loanDetail.action?loan_id=48010226', 'CA'],\n",
       "       ['', 'Current', ' 36 months', ..., 'Source Verified',\n",
       "        'https://www.lendingclub.com/browse/loanDetail.action?loan_id=57693261', 'NY'],\n",
       "       ['Sep-15', 'Current', ' 36 months', ..., 'Verified',\n",
       "        'https://www.lendingclub.com/browse/loanDetail.action?loan_id=59432726', 'PA'],\n",
       "       ...,\n",
       "       ['Jun-15', 'Current', ' 36 months', ..., 'Source Verified',\n",
       "        'https://www.lendingclub.com/browse/loanDetail.action?loan_id=50415990', 'CA'],\n",
       "       ['Apr-15', 'Current', ' 36 months', ..., 'Source Verified',\n",
       "        'https://www.lendingclub.com/browse/loanDetail.action?loan_id=46154151', 'OH'],\n",
       "       ['Dec-15', 'Current', ' 36 months', ..., '',\n",
       "        'https://www.lendingclub.com/browse/loanDetail.action?loan_id=66055249', 'IL']],\n",
       "      dtype='<U69')"
      ]
     },
     "execution_count": 112,
     "metadata": {},
     "output_type": "execute_result"
    }
   ],
   "source": [
    "loan_string_data = np.genfromtxt('data/loan-data.csv', delimiter=\";\", skip_header=1, \n",
    "                            usecols=columns_string, encoding=\"cp855\", dtype=np.str_)\n",
    "loan_string_data"
   ]
  },
  {
   "cell_type": "code",
   "execution_count": 66,
   "id": "fee62254",
   "metadata": {},
   "outputs": [
    {
     "data": {
      "text/plain": [
       "array([[48010226.  ,    35000.  ,    35000.  ,       13.33,     1184.86,     9452.96],\n",
       "       [57693261.  ,    30000.  ,    30000.  , 68616520.  ,      938.57,     4679.7 ],\n",
       "       [59432726.  ,    15000.  ,    15000.  , 68616520.  ,      494.86,     1969.83],\n",
       "       ...,\n",
       "       [50415990.  ,    10000.  ,    10000.  , 68616520.  , 68616520.  ,     2185.64],\n",
       "       [46154151.  , 68616520.  ,    10000.  ,       16.55,      354.3 ,     3199.4 ],\n",
       "       [66055249.  ,    10000.  ,    10000.  , 68616520.  ,      309.97,      301.9 ]])"
      ]
     },
     "execution_count": 66,
     "metadata": {},
     "output_type": "execute_result"
    }
   ],
   "source": [
    "loan_numeric_data = np.genfromtxt('data/loan-data.csv', delimiter=\";\", skip_header=1, \n",
    "                            usecols=columns_numeric, encoding=\"cp855\", filling_values=temporary_fill)\n",
    "numeric_data"
   ]
  },
  {
   "cell_type": "markdown",
   "id": "450aad7f",
   "metadata": {},
   "source": [
    "# Rename columns"
   ]
  },
  {
   "cell_type": "code",
   "execution_count": 54,
   "id": "b5211b4b",
   "metadata": {},
   "outputs": [
    {
     "data": {
      "text/plain": [
       "array(['id', 'issue_d', 'loan_amnt', 'loan_status', 'funded_amnt', 'term', 'int_rate',\n",
       "       'installment', 'grade', 'sub_grade', 'verification_status', 'url', 'addr_state',\n",
       "       'total_pymnt'], dtype='<U19')"
      ]
     },
     "execution_count": 54,
     "metadata": {},
     "output_type": "execute_result"
    }
   ],
   "source": [
    "full_header = np.genfromtxt('data/loan-data.csv', delimiter=\";\", skip_footer=raw_data.shape[0], \n",
    "                            encoding=\"cp855\", dtype=np.str_)\n",
    "full_header"
   ]
  },
  {
   "cell_type": "code",
   "execution_count": 59,
   "id": "30f08032",
   "metadata": {},
   "outputs": [],
   "source": [
    "string_headers, numeric_headers = full_header[columns_string], full_header[columns_numeric]\n",
    "    "
   ]
  },
  {
   "cell_type": "code",
   "execution_count": 61,
   "id": "990aec21",
   "metadata": {},
   "outputs": [
    {
     "data": {
      "text/plain": [
       "array(['issue_d', 'loan_status', 'term', 'grade', 'sub_grade', 'verification_status', 'url',\n",
       "       'addr_state'], dtype='<U19')"
      ]
     },
     "execution_count": 61,
     "metadata": {},
     "output_type": "execute_result"
    }
   ],
   "source": [
    "string_headers"
   ]
  },
  {
   "cell_type": "code",
   "execution_count": 62,
   "id": "52f830e7",
   "metadata": {},
   "outputs": [
    {
     "data": {
      "text/plain": [
       "array(['id', 'loan_amnt', 'funded_amnt', 'int_rate', 'installment', 'total_pymnt'], dtype='<U19')"
      ]
     },
     "execution_count": 62,
     "metadata": {},
     "output_type": "execute_result"
    }
   ],
   "source": [
    "numeric_headers"
   ]
  },
  {
   "cell_type": "markdown",
   "id": "59e3002d",
   "metadata": {},
   "source": [
    "# Creating checkpoint"
   ]
  },
  {
   "cell_type": "code",
   "execution_count": 64,
   "id": "3bb06f44",
   "metadata": {},
   "outputs": [],
   "source": [
    "def check_point(filename, checkpoint_header, checkpoint_data):\n",
    "    np.savez(file=filename, header=checkpoint_header, data=checkpoint_data)\n",
    "    variable_checkpoint = np.load(\"{}.npz\".format(filename))\n",
    "    return (variable_checkpoint)"
   ]
  },
  {
   "cell_type": "code",
   "execution_count": 67,
   "id": "ecedfeaa",
   "metadata": {},
   "outputs": [],
   "source": [
    "check_point_test = check_point('loan_string_data', string_headers, loan_string_data)"
   ]
  },
  {
   "cell_type": "code",
   "execution_count": 77,
   "id": "a5f46e8f",
   "metadata": {},
   "outputs": [
    {
     "data": {
      "text/plain": [
       "array([['May-15', 'Current', ' 36 months', ..., 'Verified',\n",
       "        'https://www.lendingclub.com/browse/loanDetail.action?loan_id=48010226', 'CA'],\n",
       "       ['', 'Current', ' 36 months', ..., 'Source Verified',\n",
       "        'https://www.lendingclub.com/browse/loanDetail.action?loan_id=57693261', 'NY'],\n",
       "       ['Sep-15', 'Current', ' 36 months', ..., 'Verified',\n",
       "        'https://www.lendingclub.com/browse/loanDetail.action?loan_id=59432726', 'PA'],\n",
       "       ...,\n",
       "       ['Jun-15', 'Current', ' 36 months', ..., 'Source Verified',\n",
       "        'https://www.lendingclub.com/browse/loanDetail.action?loan_id=50415990', 'CA'],\n",
       "       ['Apr-15', 'Current', ' 36 months', ..., 'Source Verified',\n",
       "        'https://www.lendingclub.com/browse/loanDetail.action?loan_id=46154151', 'OH'],\n",
       "       ['Dec-15', 'Current', ' 36 months', ..., '',\n",
       "        'https://www.lendingclub.com/browse/loanDetail.action?loan_id=66055249', 'IL']],\n",
       "      dtype='<U69')"
      ]
     },
     "execution_count": 77,
     "metadata": {},
     "output_type": "execute_result"
    }
   ],
   "source": [
    "check_point_test['data']"
   ]
  },
  {
   "cell_type": "markdown",
   "id": "b345822d",
   "metadata": {},
   "source": [
    "# Manipulation String Columns"
   ]
  },
  {
   "cell_type": "code",
   "execution_count": 78,
   "id": "b023a096",
   "metadata": {},
   "outputs": [
    {
     "data": {
      "text/plain": [
       "array(['issue_d', 'loan_status', 'term', 'grade', 'sub_grade', 'verification_status', 'url',\n",
       "       'addr_state'], dtype='<U19')"
      ]
     },
     "execution_count": 78,
     "metadata": {},
     "output_type": "execute_result"
    }
   ],
   "source": [
    "string_headers"
   ]
  },
  {
   "cell_type": "code",
   "execution_count": 79,
   "id": "dd3553b8",
   "metadata": {},
   "outputs": [],
   "source": [
    "string_data[0] = 'issue_date'"
   ]
  },
  {
   "cell_type": "markdown",
   "id": "f71e7bad",
   "metadata": {},
   "source": [
    "### Issue data"
   ]
  },
  {
   "cell_type": "code",
   "execution_count": 93,
   "id": "8b7fa4f2",
   "metadata": {},
   "outputs": [
    {
     "data": {
      "text/plain": [
       "array(['', 'Apr-15', 'Aug-15', 'Dec-15', 'Feb-15', 'Jan-15', 'Jul-15', 'Jun-15', 'Mar-15',\n",
       "       'May-15', 'Nov-15', 'Oct-15', 'Sep-15'], dtype='<U69')"
      ]
     },
     "execution_count": 93,
     "metadata": {},
     "output_type": "execute_result"
    }
   ],
   "source": [
    "np.unique(loan_string_data[:,0])"
   ]
  },
  {
   "cell_type": "code",
   "execution_count": 94,
   "id": "24e6cc92",
   "metadata": {},
   "outputs": [
    {
     "data": {
      "text/plain": [
       "array(['May', '', 'Sep', ..., 'Jun', 'Apr', 'Dec'], dtype='<U69')"
      ]
     },
     "execution_count": 94,
     "metadata": {},
     "output_type": "execute_result"
    }
   ],
   "source": [
    "loan_string_data[:,0] = np.chararray.strip(loan_string_data[:, 0], '-15')\n",
    "loan_string_data[:,0]"
   ]
  },
  {
   "cell_type": "code",
   "execution_count": 87,
   "id": "336313fd",
   "metadata": {},
   "outputs": [],
   "source": [
    "months = np.array(['', 'Jan', 'Feb', 'Mar', \"Apr\", \"May\", \"Jun\", \"Jul\", \"Aug\", \"Sep\", \"Oct\", \"Nov\", \"Dec\"])"
   ]
  },
  {
   "cell_type": "code",
   "execution_count": 98,
   "id": "d9082c18",
   "metadata": {},
   "outputs": [
    {
     "data": {
      "text/plain": [
       "array(['5', '0', '9', ..., '6', '4', '12'], dtype='<U69')"
      ]
     },
     "execution_count": 98,
     "metadata": {},
     "output_type": "execute_result"
    }
   ],
   "source": [
    "for i in range(13):\n",
    "    loan_string_data[:,0] = np.where(loan_string_data[:,0]==months[i],i, loan_string_data[:,0])\n",
    "    \n",
    "loan_string_data[:, 0]    "
   ]
  },
  {
   "cell_type": "markdown",
   "id": "63fdc30e",
   "metadata": {},
   "source": [
    "### Loan Status"
   ]
  },
  {
   "cell_type": "code",
   "execution_count": 117,
   "id": "f3362527",
   "metadata": {},
   "outputs": [
    {
     "data": {
      "text/plain": [
       "array(['0', '1'], dtype='<U69')"
      ]
     },
     "execution_count": 117,
     "metadata": {},
     "output_type": "execute_result"
    }
   ],
   "source": [
    "np.unique(loan_string_data[:,1])"
   ]
  },
  {
   "cell_type": "code",
   "execution_count": 114,
   "id": "75c99d02",
   "metadata": {},
   "outputs": [],
   "source": [
    "bad_status = np.array(['Charged Off', \"Default\", \"Late (31-120 days)\"])"
   ]
  },
  {
   "cell_type": "code",
   "execution_count": 115,
   "id": "d86c0353",
   "metadata": {},
   "outputs": [],
   "source": [
    "loan_string_data[:,1] = np.where(np.isin(loan_string_data[:,1], bad_status), 0, 1)"
   ]
  },
  {
   "cell_type": "code",
   "execution_count": 116,
   "id": "0b3fda0d",
   "metadata": {},
   "outputs": [
    {
     "data": {
      "text/plain": [
       "array(['1', '1', '1', ..., '1', '1', '1'], dtype='<U69')"
      ]
     },
     "execution_count": 116,
     "metadata": {},
     "output_type": "execute_result"
    }
   ],
   "source": [
    "loan_string_data[:, 1]"
   ]
  },
  {
   "cell_type": "markdown",
   "id": "d44eab5d",
   "metadata": {},
   "source": [
    "### Terms "
   ]
  },
  {
   "cell_type": "code",
   "execution_count": 119,
   "id": "8e2d1b0c",
   "metadata": {},
   "outputs": [
    {
     "data": {
      "text/plain": [
       "array(['issue_d', 'loan_status', 'term', 'grade', 'sub_grade', 'verification_status', 'url',\n",
       "       'addr_state'], dtype='<U19')"
      ]
     },
     "execution_count": 119,
     "metadata": {},
     "output_type": "execute_result"
    }
   ],
   "source": [
    "string_headers"
   ]
  },
  {
   "cell_type": "code",
   "execution_count": 136,
   "id": "7e0c946b",
   "metadata": {},
   "outputs": [],
   "source": [
    "string_headers[2] = \"terms months\""
   ]
  },
  {
   "cell_type": "code",
   "execution_count": 133,
   "id": "b36881dc",
   "metadata": {},
   "outputs": [
    {
     "data": {
      "text/plain": [
       "array(['36', '60'], dtype='<U69')"
      ]
     },
     "execution_count": 133,
     "metadata": {},
     "output_type": "execute_result"
    }
   ],
   "source": [
    "np.unique(loan_string_data[:,2])"
   ]
  },
  {
   "cell_type": "code",
   "execution_count": 134,
   "id": "e0dfbd54",
   "metadata": {},
   "outputs": [
    {
     "data": {
      "text/plain": [
       "array(['36', '36', '36', ..., '36', '36', '36'], dtype='<U69')"
      ]
     },
     "execution_count": 134,
     "metadata": {},
     "output_type": "execute_result"
    }
   ],
   "source": [
    "loan_string_data[:,2] = np.chararray.strip(loan_string_data[:,2], \" months \")\n",
    "loan_string_data[:, 2]"
   ]
  },
  {
   "cell_type": "code",
   "execution_count": 128,
   "id": "0574cecc",
   "metadata": {},
   "outputs": [],
   "source": [
    "loan_string_data[:,2] = np.where(loan_string_data[:,2]=='', '60', loan_string_data[:,2])"
   ]
  },
  {
   "cell_type": "code",
   "execution_count": 135,
   "id": "d63cafd4",
   "metadata": {},
   "outputs": [
    {
     "data": {
      "text/plain": [
       "array(['36', '36', '36', ..., '36', '36', '36'], dtype='<U69')"
      ]
     },
     "execution_count": 135,
     "metadata": {},
     "output_type": "execute_result"
    }
   ],
   "source": [
    "loan_string_data[:, 2]"
   ]
  },
  {
   "cell_type": "code",
   "execution_count": 131,
   "id": "b7eab31b",
   "metadata": {},
   "outputs": [],
   "source": []
  },
  {
   "cell_type": "code",
   "execution_count": null,
   "id": "25441f82",
   "metadata": {},
   "outputs": [],
   "source": []
  },
  {
   "cell_type": "code",
   "execution_count": null,
   "id": "0386da6f",
   "metadata": {},
   "outputs": [],
   "source": []
  }
 ],
 "metadata": {
  "kernelspec": {
   "display_name": "Python 3 (ipykernel)",
   "language": "python",
   "name": "python3"
  },
  "language_info": {
   "codemirror_mode": {
    "name": "ipython",
    "version": 3
   },
   "file_extension": ".py",
   "mimetype": "text/x-python",
   "name": "python",
   "nbconvert_exporter": "python",
   "pygments_lexer": "ipython3",
   "version": "3.10.6"
  }
 },
 "nbformat": 4,
 "nbformat_minor": 5
}
