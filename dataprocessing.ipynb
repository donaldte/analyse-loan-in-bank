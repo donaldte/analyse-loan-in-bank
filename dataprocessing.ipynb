{
 "cells": [
  {
   "cell_type": "code",
   "execution_count": 137,
   "id": "0121a23c",
   "metadata": {},
   "outputs": [],
   "source": [
    "import numpy as np\n",
    "import pandas as pd\n",
    "from numpy.random import shuffle\n",
    "from numpy.random import Generator as gen \n",
    "from numpy.random import PCG64 as pcg\n"
   ]
  },
  {
   "cell_type": "code",
   "execution_count": 138,
   "id": "870aefb2",
   "metadata": {},
   "outputs": [],
   "source": [
    "np.set_printoptions(suppress=True, linewidth=100, precision=2)"
   ]
  },
  {
   "cell_type": "markdown",
   "id": "e536e934",
   "metadata": {},
   "source": [
    "# Importing data , analyse and preprocess by Donald Programmeur"
   ]
  },
  {
   "cell_type": "code",
   "execution_count": 139,
   "id": "fffbe335",
   "metadata": {},
   "outputs": [
    {
     "data": {
      "text/plain": [
       "array([[48010226.  ,         nan,    35000.  , ...,         nan,         nan,     9452.96],\n",
       "       [57693261.  ,         nan,    30000.  , ...,         nan,         nan,     4679.7 ],\n",
       "       [59432726.  ,         nan,    15000.  , ...,         nan,         nan,     1969.83],\n",
       "       ...,\n",
       "       [50415990.  ,         nan,    10000.  , ...,         nan,         nan,     2185.64],\n",
       "       [46154151.  ,         nan,         nan, ...,         nan,         nan,     3199.4 ],\n",
       "       [66055249.  ,         nan,    10000.  , ...,         nan,         nan,      301.9 ]])"
      ]
     },
     "execution_count": 139,
     "metadata": {},
     "output_type": "execute_result"
    }
   ],
   "source": [
    "raw_data = np.genfromtxt('data/loan-data.csv', delimiter=\";\", skip_header = 1, autostrip = True, encoding = \"cp855\")\n",
    "raw_data"
   ]
  },
  {
   "cell_type": "markdown",
   "id": "2cb92b83",
   "metadata": {},
   "source": [
    "# Checking data"
   ]
  },
  {
   "cell_type": "code",
   "execution_count": 140,
   "id": "17584570",
   "metadata": {},
   "outputs": [
    {
     "data": {
      "text/plain": [
       "88005"
      ]
     },
     "execution_count": 140,
     "metadata": {},
     "output_type": "execute_result"
    }
   ],
   "source": [
    "np.isnan(raw_data).sum()"
   ]
  },
  {
   "cell_type": "code",
   "execution_count": 141,
   "id": "fa1171a9",
   "metadata": {},
   "outputs": [
    {
     "name": "stderr",
     "output_type": "stream",
     "text": [
      "/tmp/ipykernel_3906871/2718681720.py:1: RuntimeWarning: Mean of empty slice\n",
      "  temporary_mean = np.nanmean(raw_data, axis=0)\n",
      "/tmp/ipykernel_3906871/2718681720.py:6: RuntimeWarning: All-NaN slice encountered\n",
      "  temporary_stats = np.array([np.nanmin(raw_data, axis=0), temporary_mean, np.nanmax(raw_data, axis=0)])\n"
     ]
    },
    {
     "data": {
      "text/plain": [
       "array([[  373332.  ,         nan,     1000.  ,         nan,     1000.  ,         nan,        6.  ,\n",
       "              31.42,         nan,         nan,         nan,         nan,         nan,        0.  ],\n",
       "       [54015809.19,         nan,    15273.46,         nan,    15311.04,         nan,       16.62,\n",
       "             440.92,         nan,         nan,         nan,         nan,         nan,     3143.85],\n",
       "       [68616519.  ,         nan,    35000.  ,         nan,    35000.  ,         nan,       28.99,\n",
       "            1372.97,         nan,         nan,         nan,         nan,         nan,    41913.62]])"
      ]
     },
     "execution_count": 141,
     "metadata": {},
     "output_type": "execute_result"
    }
   ],
   "source": [
    "temporary_mean = np.nanmean(raw_data, axis=0)\n",
    "\n",
    "temporary_fill= np.nanmax(raw_data) + 1\n",
    "\n",
    "\n",
    "temporary_stats = np.array([np.nanmin(raw_data, axis=0), temporary_mean, np.nanmax(raw_data, axis=0)])\n",
    "\n",
    "temporary_stats"
   ]
  },
  {
   "cell_type": "markdown",
   "id": "27da40e4",
   "metadata": {},
   "source": [
    "# Splitting "
   ]
  },
  {
   "cell_type": "code",
   "execution_count": 142,
   "id": "1505317d",
   "metadata": {},
   "outputs": [
    {
     "data": {
      "text/plain": [
       "array([ 1,  3,  5,  8,  9, 10, 11, 12])"
      ]
     },
     "execution_count": 142,
     "metadata": {},
     "output_type": "execute_result"
    }
   ],
   "source": [
    "columns_string = np.argwhere(np.isnan(temporary_mean)).squeeze()\n",
    "columns_string"
   ]
  },
  {
   "cell_type": "code",
   "execution_count": 143,
   "id": "a3409f4f",
   "metadata": {},
   "outputs": [
    {
     "data": {
      "text/plain": [
       "array([ 0,  2,  4,  6,  7, 13])"
      ]
     },
     "execution_count": 143,
     "metadata": {},
     "output_type": "execute_result"
    }
   ],
   "source": [
    "columns_numeric = np.argwhere(np.isnan(temporary_mean)==False).squeeze()\n",
    "columns_numeric"
   ]
  },
  {
   "cell_type": "markdown",
   "id": "c3315edc",
   "metadata": {},
   "source": [
    "# Re-importing data seprately"
   ]
  },
  {
   "cell_type": "code",
   "execution_count": 144,
   "id": "74a29b8a",
   "metadata": {},
   "outputs": [
    {
     "data": {
      "text/plain": [
       "array([['May-15', 'Current', ' 36 months', ..., 'Verified',\n",
       "        'https://www.lendingclub.com/browse/loanDetail.action?loan_id=48010226', 'CA'],\n",
       "       ['', 'Current', ' 36 months', ..., 'Source Verified',\n",
       "        'https://www.lendingclub.com/browse/loanDetail.action?loan_id=57693261', 'NY'],\n",
       "       ['Sep-15', 'Current', ' 36 months', ..., 'Verified',\n",
       "        'https://www.lendingclub.com/browse/loanDetail.action?loan_id=59432726', 'PA'],\n",
       "       ...,\n",
       "       ['Jun-15', 'Current', ' 36 months', ..., 'Source Verified',\n",
       "        'https://www.lendingclub.com/browse/loanDetail.action?loan_id=50415990', 'CA'],\n",
       "       ['Apr-15', 'Current', ' 36 months', ..., 'Source Verified',\n",
       "        'https://www.lendingclub.com/browse/loanDetail.action?loan_id=46154151', 'OH'],\n",
       "       ['Dec-15', 'Current', ' 36 months', ..., '',\n",
       "        'https://www.lendingclub.com/browse/loanDetail.action?loan_id=66055249', 'IL']],\n",
       "      dtype='<U69')"
      ]
     },
     "execution_count": 144,
     "metadata": {},
     "output_type": "execute_result"
    }
   ],
   "source": [
    "loan_string_data = np.genfromtxt('data/loan-data.csv', delimiter=\";\", skip_header=1, \n",
    "                            usecols=columns_string, encoding=\"cp855\", dtype=np.str_)\n",
    "loan_string_data"
   ]
  },
  {
   "cell_type": "code",
   "execution_count": 145,
   "id": "fee62254",
   "metadata": {},
   "outputs": [
    {
     "data": {
      "text/plain": [
       "array([[48010226.  ,    35000.  ,    35000.  ,       13.33,     1184.86,     9452.96],\n",
       "       [57693261.  ,    30000.  ,    30000.  , 68616520.  ,      938.57,     4679.7 ],\n",
       "       [59432726.  ,    15000.  ,    15000.  , 68616520.  ,      494.86,     1969.83],\n",
       "       ...,\n",
       "       [50415990.  ,    10000.  ,    10000.  , 68616520.  , 68616520.  ,     2185.64],\n",
       "       [46154151.  , 68616520.  ,    10000.  ,       16.55,      354.3 ,     3199.4 ],\n",
       "       [66055249.  ,    10000.  ,    10000.  , 68616520.  ,      309.97,      301.9 ]])"
      ]
     },
     "execution_count": 145,
     "metadata": {},
     "output_type": "execute_result"
    }
   ],
   "source": [
    "loan_numeric_data = np.genfromtxt('data/loan-data.csv', delimiter=\";\", skip_header=1, \n",
    "                            usecols=columns_numeric, encoding=\"cp855\", filling_values=temporary_fill)\n",
    "loan_numeric_data"
   ]
  },
  {
   "cell_type": "markdown",
   "id": "450aad7f",
   "metadata": {},
   "source": [
    "# Rename columns"
   ]
  },
  {
   "cell_type": "code",
   "execution_count": 146,
   "id": "b5211b4b",
   "metadata": {},
   "outputs": [
    {
     "data": {
      "text/plain": [
       "array(['id', 'issue_d', 'loan_amnt', 'loan_status', 'funded_amnt', 'term', 'int_rate',\n",
       "       'installment', 'grade', 'sub_grade', 'verification_status', 'url', 'addr_state',\n",
       "       'total_pymnt'], dtype='<U19')"
      ]
     },
     "execution_count": 146,
     "metadata": {},
     "output_type": "execute_result"
    }
   ],
   "source": [
    "full_header = np.genfromtxt('data/loan-data.csv', delimiter=\";\", skip_footer=raw_data.shape[0], \n",
    "                            encoding=\"cp855\", dtype=np.str_)\n",
    "full_header"
   ]
  },
  {
   "cell_type": "code",
   "execution_count": 147,
   "id": "30f08032",
   "metadata": {},
   "outputs": [],
   "source": [
    "string_headers, numeric_headers = full_header[columns_string], full_header[columns_numeric]\n",
    "    "
   ]
  },
  {
   "cell_type": "code",
   "execution_count": 148,
   "id": "990aec21",
   "metadata": {},
   "outputs": [
    {
     "data": {
      "text/plain": [
       "array(['issue_d', 'loan_status', 'term', 'grade', 'sub_grade', 'verification_status', 'url',\n",
       "       'addr_state'], dtype='<U19')"
      ]
     },
     "execution_count": 148,
     "metadata": {},
     "output_type": "execute_result"
    }
   ],
   "source": [
    "string_headers"
   ]
  },
  {
   "cell_type": "code",
   "execution_count": 149,
   "id": "52f830e7",
   "metadata": {},
   "outputs": [
    {
     "data": {
      "text/plain": [
       "array(['id', 'loan_amnt', 'funded_amnt', 'int_rate', 'installment', 'total_pymnt'], dtype='<U19')"
      ]
     },
     "execution_count": 149,
     "metadata": {},
     "output_type": "execute_result"
    }
   ],
   "source": [
    "numeric_headers"
   ]
  },
  {
   "cell_type": "markdown",
   "id": "59e3002d",
   "metadata": {},
   "source": [
    "# Creating checkpoint"
   ]
  },
  {
   "cell_type": "code",
   "execution_count": 150,
   "id": "3bb06f44",
   "metadata": {},
   "outputs": [],
   "source": [
    "def check_point(filename, checkpoint_header, checkpoint_data):\n",
    "    np.savez(file=filename, header=checkpoint_header, data=checkpoint_data)\n",
    "    variable_checkpoint = np.load(\"{}.npz\".format(filename))\n",
    "    return (variable_checkpoint)"
   ]
  },
  {
   "cell_type": "code",
   "execution_count": 151,
   "id": "ecedfeaa",
   "metadata": {},
   "outputs": [],
   "source": [
    "check_point_test = check_point('loan_string_data', string_headers, loan_string_data)"
   ]
  },
  {
   "cell_type": "code",
   "execution_count": 152,
   "id": "a5f46e8f",
   "metadata": {},
   "outputs": [
    {
     "data": {
      "text/plain": [
       "array([['May-15', 'Current', ' 36 months', ..., 'Verified',\n",
       "        'https://www.lendingclub.com/browse/loanDetail.action?loan_id=48010226', 'CA'],\n",
       "       ['', 'Current', ' 36 months', ..., 'Source Verified',\n",
       "        'https://www.lendingclub.com/browse/loanDetail.action?loan_id=57693261', 'NY'],\n",
       "       ['Sep-15', 'Current', ' 36 months', ..., 'Verified',\n",
       "        'https://www.lendingclub.com/browse/loanDetail.action?loan_id=59432726', 'PA'],\n",
       "       ...,\n",
       "       ['Jun-15', 'Current', ' 36 months', ..., 'Source Verified',\n",
       "        'https://www.lendingclub.com/browse/loanDetail.action?loan_id=50415990', 'CA'],\n",
       "       ['Apr-15', 'Current', ' 36 months', ..., 'Source Verified',\n",
       "        'https://www.lendingclub.com/browse/loanDetail.action?loan_id=46154151', 'OH'],\n",
       "       ['Dec-15', 'Current', ' 36 months', ..., '',\n",
       "        'https://www.lendingclub.com/browse/loanDetail.action?loan_id=66055249', 'IL']],\n",
       "      dtype='<U69')"
      ]
     },
     "execution_count": 152,
     "metadata": {},
     "output_type": "execute_result"
    }
   ],
   "source": [
    "check_point_test['data']"
   ]
  },
  {
   "cell_type": "markdown",
   "id": "b345822d",
   "metadata": {},
   "source": [
    "# Manipulation String Columns"
   ]
  },
  {
   "cell_type": "code",
   "execution_count": 153,
   "id": "b023a096",
   "metadata": {},
   "outputs": [
    {
     "data": {
      "text/plain": [
       "array(['issue_d', 'loan_status', 'term', 'grade', 'sub_grade', 'verification_status', 'url',\n",
       "       'addr_state'], dtype='<U19')"
      ]
     },
     "execution_count": 153,
     "metadata": {},
     "output_type": "execute_result"
    }
   ],
   "source": [
    "string_headers"
   ]
  },
  {
   "cell_type": "code",
   "execution_count": 154,
   "id": "dd3553b8",
   "metadata": {},
   "outputs": [],
   "source": [
    "string_headers[0] = 'issue_date'"
   ]
  },
  {
   "cell_type": "markdown",
   "id": "f71e7bad",
   "metadata": {},
   "source": [
    "### Issue data"
   ]
  },
  {
   "cell_type": "code",
   "execution_count": 155,
   "id": "8b7fa4f2",
   "metadata": {},
   "outputs": [
    {
     "data": {
      "text/plain": [
       "array(['', 'Apr-15', 'Aug-15', 'Dec-15', 'Feb-15', 'Jan-15', 'Jul-15', 'Jun-15', 'Mar-15',\n",
       "       'May-15', 'Nov-15', 'Oct-15', 'Sep-15'], dtype='<U69')"
      ]
     },
     "execution_count": 155,
     "metadata": {},
     "output_type": "execute_result"
    }
   ],
   "source": [
    "np.unique(loan_string_data[:,0])"
   ]
  },
  {
   "cell_type": "code",
   "execution_count": 156,
   "id": "24e6cc92",
   "metadata": {},
   "outputs": [
    {
     "data": {
      "text/plain": [
       "array(['May', '', 'Sep', ..., 'Jun', 'Apr', 'Dec'], dtype='<U69')"
      ]
     },
     "execution_count": 156,
     "metadata": {},
     "output_type": "execute_result"
    }
   ],
   "source": [
    "loan_string_data[:,0] = np.chararray.strip(loan_string_data[:, 0], '-15')\n",
    "loan_string_data[:,0]"
   ]
  },
  {
   "cell_type": "code",
   "execution_count": 157,
   "id": "336313fd",
   "metadata": {},
   "outputs": [],
   "source": [
    "months = np.array(['', 'Jan', 'Feb', 'Mar', \"Apr\", \"May\", \"Jun\", \"Jul\", \"Aug\", \"Sep\", \"Oct\", \"Nov\", \"Dec\"])"
   ]
  },
  {
   "cell_type": "code",
   "execution_count": 158,
   "id": "d9082c18",
   "metadata": {},
   "outputs": [
    {
     "data": {
      "text/plain": [
       "array(['5', '0', '9', ..., '6', '4', '12'], dtype='<U69')"
      ]
     },
     "execution_count": 158,
     "metadata": {},
     "output_type": "execute_result"
    }
   ],
   "source": [
    "for i in range(13):\n",
    "    loan_string_data[:,0] = np.where(loan_string_data[:,0]==months[i],i, loan_string_data[:,0])\n",
    "    \n",
    "loan_string_data[:, 0]    "
   ]
  },
  {
   "cell_type": "markdown",
   "id": "63fdc30e",
   "metadata": {},
   "source": [
    "### Loan Status"
   ]
  },
  {
   "cell_type": "code",
   "execution_count": 159,
   "id": "f3362527",
   "metadata": {},
   "outputs": [
    {
     "data": {
      "text/plain": [
       "array(['', 'Charged Off', 'Current', 'Default', 'Fully Paid', 'In Grace Period', 'Issued',\n",
       "       'Late (16-30 days)', 'Late (31-120 days)'], dtype='<U69')"
      ]
     },
     "execution_count": 159,
     "metadata": {},
     "output_type": "execute_result"
    }
   ],
   "source": [
    "np.unique(loan_string_data[:,1])"
   ]
  },
  {
   "cell_type": "code",
   "execution_count": 160,
   "id": "75c99d02",
   "metadata": {},
   "outputs": [],
   "source": [
    "bad_status = np.array(['Charged Off', \"Default\", \"Late (31-120 days)\"])"
   ]
  },
  {
   "cell_type": "code",
   "execution_count": 161,
   "id": "d86c0353",
   "metadata": {},
   "outputs": [],
   "source": [
    "loan_string_data[:,1] = np.where(np.isin(loan_string_data[:,1], bad_status), 0, 1)"
   ]
  },
  {
   "cell_type": "code",
   "execution_count": 162,
   "id": "0b3fda0d",
   "metadata": {},
   "outputs": [
    {
     "data": {
      "text/plain": [
       "array(['0', '1'], dtype='<U69')"
      ]
     },
     "execution_count": 162,
     "metadata": {},
     "output_type": "execute_result"
    }
   ],
   "source": [
    "np.unique(loan_string_data[:, 1])"
   ]
  },
  {
   "cell_type": "markdown",
   "id": "d44eab5d",
   "metadata": {},
   "source": [
    "### Terms "
   ]
  },
  {
   "cell_type": "code",
   "execution_count": 163,
   "id": "8e2d1b0c",
   "metadata": {},
   "outputs": [
    {
     "data": {
      "text/plain": [
       "array(['issue_date', 'loan_status', 'term', 'grade', 'sub_grade', 'verification_status', 'url',\n",
       "       'addr_state'], dtype='<U19')"
      ]
     },
     "execution_count": 163,
     "metadata": {},
     "output_type": "execute_result"
    }
   ],
   "source": [
    "string_headers"
   ]
  },
  {
   "cell_type": "code",
   "execution_count": 164,
   "id": "7e0c946b",
   "metadata": {},
   "outputs": [],
   "source": [
    "string_headers[2] = \"terms months\""
   ]
  },
  {
   "cell_type": "code",
   "execution_count": 165,
   "id": "b36881dc",
   "metadata": {},
   "outputs": [
    {
     "data": {
      "text/plain": [
       "array(['', ' 36 months', ' 60 months'], dtype='<U69')"
      ]
     },
     "execution_count": 165,
     "metadata": {},
     "output_type": "execute_result"
    }
   ],
   "source": [
    "np.unique(loan_string_data[:,2])"
   ]
  },
  {
   "cell_type": "code",
   "execution_count": 166,
   "id": "e0dfbd54",
   "metadata": {},
   "outputs": [
    {
     "data": {
      "text/plain": [
       "array(['36', '36', '36', ..., '36', '36', '36'], dtype='<U69')"
      ]
     },
     "execution_count": 166,
     "metadata": {},
     "output_type": "execute_result"
    }
   ],
   "source": [
    "loan_string_data[:,2] = np.chararray.strip(loan_string_data[:,2], \" months \")\n",
    "loan_string_data[:, 2]"
   ]
  },
  {
   "cell_type": "code",
   "execution_count": 167,
   "id": "0574cecc",
   "metadata": {},
   "outputs": [],
   "source": [
    "loan_string_data[:,2] = np.where(loan_string_data[:,2]=='', '60', loan_string_data[:,2])"
   ]
  },
  {
   "cell_type": "code",
   "execution_count": 168,
   "id": "d63cafd4",
   "metadata": {},
   "outputs": [
    {
     "data": {
      "text/plain": [
       "array(['36', '36', '36', ..., '36', '36', '36'], dtype='<U69')"
      ]
     },
     "execution_count": 168,
     "metadata": {},
     "output_type": "execute_result"
    }
   ],
   "source": [
    "loan_string_data[:, 2]"
   ]
  },
  {
   "cell_type": "markdown",
   "id": "772e0460",
   "metadata": {},
   "source": [
    "### Grade and Sub-Grade"
   ]
  },
  {
   "cell_type": "code",
   "execution_count": 169,
   "id": "25441f82",
   "metadata": {},
   "outputs": [
    {
     "data": {
      "text/plain": [
       "array(['issue_date', 'loan_status', 'terms months', 'grade', 'sub_grade', 'verification_status',\n",
       "       'url', 'addr_state'], dtype='<U19')"
      ]
     },
     "execution_count": 169,
     "metadata": {},
     "output_type": "execute_result"
    }
   ],
   "source": [
    "string_headers"
   ]
  },
  {
   "cell_type": "code",
   "execution_count": 170,
   "id": "0386da6f",
   "metadata": {},
   "outputs": [
    {
     "data": {
      "text/plain": [
       "array(['', 'A', 'B', 'C', 'D', 'E', 'F', 'G'], dtype='<U69')"
      ]
     },
     "execution_count": 170,
     "metadata": {},
     "output_type": "execute_result"
    }
   ],
   "source": [
    "np.unique(loan_string_data[:, 3])"
   ]
  },
  {
   "cell_type": "code",
   "execution_count": 171,
   "id": "54f311c0",
   "metadata": {},
   "outputs": [
    {
     "data": {
      "text/plain": [
       "(array(['', 'A1', 'A2', 'A3', 'A4', 'A5', 'B1', 'B2', 'B3', 'B4', 'B5', 'C1', 'C2', 'C3', 'C4',\n",
       "        'C5', 'D1', 'D2', 'D3', 'D4', 'D5', 'E1', 'E2', 'E3', 'E4', 'E5', 'F1', 'F2', 'F3', 'F4',\n",
       "        'F5', 'G1', 'G2', 'G3', 'G4', 'G5'], dtype='<U69'),\n",
       " array([514, 285, 278, 239, 323, 502, 509, 517, 530, 553, 494, 629, 567, 586, 564, 423, 391, 267,\n",
       "        250, 255, 223, 235, 162, 171, 139, 114,  94,  52,  34,  43,  16,  19,  10,   3,   7,   2]))"
      ]
     },
     "execution_count": 171,
     "metadata": {},
     "output_type": "execute_result"
    }
   ],
   "source": [
    "np.unique(loan_string_data[:, 4], return_counts=True)"
   ]
  },
  {
   "cell_type": "markdown",
   "id": "0bc83569",
   "metadata": {},
   "source": [
    " ### Filling Subgrade"
   ]
  },
  {
   "cell_type": "code",
   "execution_count": 172,
   "id": "aad08fc4",
   "metadata": {},
   "outputs": [
    {
     "data": {
      "text/plain": [
       "(array(['', 'A1', 'A2', 'A3', 'A4', 'A5', 'B1', 'B2', 'B3', 'B4', 'B5', 'C1', 'C2', 'C3', 'C4',\n",
       "        'C5', 'D1', 'D2', 'D3', 'D4', 'D5', 'E1', 'E2', 'E3', 'E4', 'E5', 'F1', 'F2', 'F3', 'F4',\n",
       "        'F5', 'G1', 'G2', 'G3', 'G4', 'G5'], dtype='<U69'),\n",
       " array([  9, 285, 278, 239, 323, 592, 509, 517, 530, 553, 633, 629, 567, 586, 564, 577, 391, 267,\n",
       "        250, 255, 288, 235, 162, 171, 139, 160,  94,  52,  34,  43,  24,  19,  10,   3,   7,   5]))"
      ]
     },
     "execution_count": 172,
     "metadata": {},
     "output_type": "execute_result"
    }
   ],
   "source": [
    "for i in np.unique(loan_string_data[:, 3])[1:]:\n",
    "    loan_string_data[:,4] = np.where((loan_string_data[:, 4]=='') & (loan_string_data[:,3]==i), i + \"5\",\n",
    "                                    loan_string_data[:, 4])\n",
    "np.unique(loan_string_data[:,4], return_counts=True) "
   ]
  },
  {
   "cell_type": "code",
   "execution_count": 173,
   "id": "43cbf6a6",
   "metadata": {},
   "outputs": [
    {
     "data": {
      "text/plain": [
       "(array(['A1', 'A2', 'A3', 'A4', 'A5', 'B1', 'B2', 'B3', 'B4', 'B5', 'C1', 'C2', 'C3', 'C4', 'C5',\n",
       "        'D1', 'D2', 'D3', 'D4', 'D5', 'E1', 'E2', 'E3', 'E4', 'E5', 'F1', 'F2', 'F3', 'F4', 'F5',\n",
       "        'G1', 'G2', 'G3', 'G4', 'G5', 'H1'], dtype='<U69'),\n",
       " array([285, 278, 239, 323, 592, 509, 517, 530, 553, 633, 629, 567, 586, 564, 577, 391, 267, 250,\n",
       "        255, 288, 235, 162, 171, 139, 160,  94,  52,  34,  43,  24,  19,  10,   3,   7,   5,   9]))"
      ]
     },
     "execution_count": 173,
     "metadata": {},
     "output_type": "execute_result"
    }
   ],
   "source": [
    "loan_string_data[:,4] = np.where(loan_string_data[:, 4]=='', \"H1\",\n",
    "                                    loan_string_data[:, 4])\n",
    "np.unique(loan_string_data[:,4], return_counts=True) "
   ]
  },
  {
   "cell_type": "markdown",
   "id": "73d3c750",
   "metadata": {},
   "source": [
    "### Removing grade columns"
   ]
  },
  {
   "cell_type": "code",
   "execution_count": 174,
   "id": "78cbb192",
   "metadata": {},
   "outputs": [],
   "source": [
    "loan_string_data = np.delete(loan_string_data, 3, axis=1)"
   ]
  },
  {
   "cell_type": "code",
   "execution_count": 175,
   "id": "675b1fde",
   "metadata": {},
   "outputs": [
    {
     "data": {
      "text/plain": [
       "array(['C3', 'A5', 'B5', ..., 'A5', 'D2', 'A4'], dtype='<U69')"
      ]
     },
     "execution_count": 175,
     "metadata": {},
     "output_type": "execute_result"
    }
   ],
   "source": [
    "loan_string_data[:,3]"
   ]
  },
  {
   "cell_type": "code",
   "execution_count": 176,
   "id": "4f5735d6",
   "metadata": {},
   "outputs": [
    {
     "data": {
      "text/plain": [
       "'sub_grade'"
      ]
     },
     "execution_count": 176,
     "metadata": {},
     "output_type": "execute_result"
    }
   ],
   "source": [
    "string_headers = np.delete(string_headers, 3)\n",
    "string_headers[3]"
   ]
  },
  {
   "cell_type": "markdown",
   "id": "0d478ea6",
   "metadata": {},
   "source": [
    "### Converting sub-grade to number"
   ]
  },
  {
   "cell_type": "code",
   "execution_count": 177,
   "id": "075174ec",
   "metadata": {},
   "outputs": [
    {
     "data": {
      "text/plain": [
       "(array(['A1', 'A2', 'A3', 'A4', 'A5', 'B1', 'B2', 'B3', 'B4', 'B5', 'C1', 'C2', 'C3', 'C4', 'C5',\n",
       "        'D1', 'D2', 'D3', 'D4', 'D5', 'E1', 'E2', 'E3', 'E4', 'E5', 'F1', 'F2', 'F3', 'F4', 'F5',\n",
       "        'G1', 'G2', 'G3', 'G4', 'G5', 'H1'], dtype='<U69'),\n",
       " array([285, 278, 239, 323, 592, 509, 517, 530, 553, 633, 629, 567, 586, 564, 577, 391, 267, 250,\n",
       "        255, 288, 235, 162, 171, 139, 160,  94,  52,  34,  43,  24,  19,  10,   3,   7,   5,   9]))"
      ]
     },
     "execution_count": 177,
     "metadata": {},
     "output_type": "execute_result"
    }
   ],
   "source": [
    "np.unique(loan_string_data[:, 3], return_counts=True)"
   ]
  },
  {
   "cell_type": "code",
   "execution_count": 178,
   "id": "9a116fb7",
   "metadata": {},
   "outputs": [],
   "source": [
    "keys = list(np.unique(loan_string_data[:, 3]))\n",
    "values = list(range(1, np.unique(loan_string_data[:, 3]).shape[0] + 1))\n",
    "dict_sub_grade = dict(zip(keys, values))"
   ]
  },
  {
   "cell_type": "code",
   "execution_count": 179,
   "id": "d921d598",
   "metadata": {},
   "outputs": [
    {
     "data": {
      "text/plain": [
       "{'A1': 1,\n",
       " 'A2': 2,\n",
       " 'A3': 3,\n",
       " 'A4': 4,\n",
       " 'A5': 5,\n",
       " 'B1': 6,\n",
       " 'B2': 7,\n",
       " 'B3': 8,\n",
       " 'B4': 9,\n",
       " 'B5': 10,\n",
       " 'C1': 11,\n",
       " 'C2': 12,\n",
       " 'C3': 13,\n",
       " 'C4': 14,\n",
       " 'C5': 15,\n",
       " 'D1': 16,\n",
       " 'D2': 17,\n",
       " 'D3': 18,\n",
       " 'D4': 19,\n",
       " 'D5': 20,\n",
       " 'E1': 21,\n",
       " 'E2': 22,\n",
       " 'E3': 23,\n",
       " 'E4': 24,\n",
       " 'E5': 25,\n",
       " 'F1': 26,\n",
       " 'F2': 27,\n",
       " 'F3': 28,\n",
       " 'F4': 29,\n",
       " 'F5': 30,\n",
       " 'G1': 31,\n",
       " 'G2': 32,\n",
       " 'G3': 33,\n",
       " 'G4': 34,\n",
       " 'G5': 35,\n",
       " 'H1': 36}"
      ]
     },
     "execution_count": 179,
     "metadata": {},
     "output_type": "execute_result"
    }
   ],
   "source": [
    "dict_sub_grade"
   ]
  },
  {
   "cell_type": "code",
   "execution_count": 180,
   "id": "41299b9a",
   "metadata": {},
   "outputs": [
    {
     "data": {
      "text/plain": [
       "array(['13', '5', '10', ..., '5', '17', '4'], dtype='<U69')"
      ]
     },
     "execution_count": 180,
     "metadata": {},
     "output_type": "execute_result"
    }
   ],
   "source": [
    "for i in keys:\n",
    "    loan_string_data[:,3] = np.where(loan_string_data[:, 3]==i, dict_sub_grade[i], loan_string_data[:,3])\n",
    "\n",
    "loan_string_data[:, 3]    "
   ]
  },
  {
   "cell_type": "markdown",
   "id": "9fc7eb45",
   "metadata": {},
   "source": [
    "### Verification Status"
   ]
  },
  {
   "cell_type": "code",
   "execution_count": 181,
   "id": "c70d23bf",
   "metadata": {},
   "outputs": [
    {
     "data": {
      "text/plain": [
       "array(['issue_date', 'loan_status', 'terms months', 'sub_grade', 'verification_status', 'url',\n",
       "       'addr_state'], dtype='<U19')"
      ]
     },
     "execution_count": 181,
     "metadata": {},
     "output_type": "execute_result"
    }
   ],
   "source": [
    "string_headers"
   ]
  },
  {
   "cell_type": "code",
   "execution_count": 184,
   "id": "8a62a7a1",
   "metadata": {},
   "outputs": [
    {
     "data": {
      "text/plain": [
       "array(['0', '1'], dtype='<U69')"
      ]
     },
     "execution_count": 184,
     "metadata": {},
     "output_type": "execute_result"
    }
   ],
   "source": [
    "np.unique(loan_string_data[:, 4])"
   ]
  },
  {
   "cell_type": "code",
   "execution_count": 183,
   "id": "cabad6e1",
   "metadata": {},
   "outputs": [
    {
     "data": {
      "text/plain": [
       "array(['1', '1', '1', ..., '1', '1', '0'], dtype='<U69')"
      ]
     },
     "execution_count": 183,
     "metadata": {},
     "output_type": "execute_result"
    }
   ],
   "source": [
    "bad_status_verified = np.array(['', 'Not Verified'])\n",
    "\n",
    "loan_string_data[:,4] = np.where(np.isin(loan_string_data[:,4] , bad_status_verified), 0, 1)\n",
    "loan_string_data[:,4]"
   ]
  },
  {
   "cell_type": "markdown",
   "id": "26f09e6b",
   "metadata": {},
   "source": [
    "### Url "
   ]
  },
  {
   "cell_type": "code",
   "execution_count": 185,
   "id": "171ad7f5",
   "metadata": {},
   "outputs": [
    {
     "data": {
      "text/plain": [
       "array(['issue_date', 'loan_status', 'terms months', 'sub_grade', 'verification_status', 'url',\n",
       "       'addr_state'], dtype='<U19')"
      ]
     },
     "execution_count": 185,
     "metadata": {},
     "output_type": "execute_result"
    }
   ],
   "source": [
    "string_headers"
   ]
  },
  {
   "cell_type": "code",
   "execution_count": 186,
   "id": "afab040f",
   "metadata": {},
   "outputs": [
    {
     "data": {
      "text/plain": [
       "array(['https://www.lendingclub.com/browse/loanDetail.action?loan_id=48010226',\n",
       "       'https://www.lendingclub.com/browse/loanDetail.action?loan_id=57693261',\n",
       "       'https://www.lendingclub.com/browse/loanDetail.action?loan_id=59432726', ...,\n",
       "       'https://www.lendingclub.com/browse/loanDetail.action?loan_id=50415990',\n",
       "       'https://www.lendingclub.com/browse/loanDetail.action?loan_id=46154151',\n",
       "       'https://www.lendingclub.com/browse/loanDetail.action?loan_id=66055249'], dtype='<U69')"
      ]
     },
     "execution_count": 186,
     "metadata": {},
     "output_type": "execute_result"
    }
   ],
   "source": [
    "loan_string_data[:, 5]"
   ]
  },
  {
   "cell_type": "code",
   "execution_count": 187,
   "id": "9c1c1d2d",
   "metadata": {},
   "outputs": [],
   "source": [
    "loan_string_data[:,5] = np.chararray.strip(loan_string_data[:, 5], 'https://www.lendingclub.com/browse/loanDetail.action?loan_id=')"
   ]
  },
  {
   "cell_type": "code",
   "execution_count": 188,
   "id": "f52307c7",
   "metadata": {},
   "outputs": [
    {
     "data": {
      "text/plain": [
       "array(['48010226', '57693261', '59432726', ..., '50415990', '46154151', '66055249'], dtype='<U69')"
      ]
     },
     "execution_count": 188,
     "metadata": {},
     "output_type": "execute_result"
    }
   ],
   "source": [
    "loan_string_data[:, 5]"
   ]
  },
  {
   "cell_type": "code",
   "execution_count": 194,
   "id": "49149c80",
   "metadata": {},
   "outputs": [
    {
     "data": {
      "text/plain": [
       "array([48010226., 57693261., 59432726., ..., 50415990., 46154151., 66055249.])"
      ]
     },
     "execution_count": 194,
     "metadata": {},
     "output_type": "execute_result"
    }
   ],
   "source": [
    "loan_numeric_data[:,0]"
   ]
  },
  {
   "cell_type": "code",
   "execution_count": 197,
   "id": "8fc3944f",
   "metadata": {},
   "outputs": [
    {
     "data": {
      "text/plain": [
       "True"
      ]
     },
     "execution_count": 197,
     "metadata": {},
     "output_type": "execute_result"
    }
   ],
   "source": [
    "np.array_equal(loan_string_data[:, 5].astype(dtype=np.int32), loan_numeric_data[:, 0].astype(dtype=np.int32))"
   ]
  },
  {
   "cell_type": "code",
   "execution_count": 206,
   "id": "260756fc",
   "metadata": {},
   "outputs": [],
   "source": [
    "loan_string_data = np.delete(loan_string_data, 5, axis=1)"
   ]
  },
  {
   "cell_type": "code",
   "execution_count": 204,
   "id": "169f015f",
   "metadata": {},
   "outputs": [],
   "source": [
    "string_headers = np.delete(string_headers, 5)"
   ]
  },
  {
   "cell_type": "markdown",
   "id": "89d69463",
   "metadata": {},
   "source": [
    "### Address state"
   ]
  },
  {
   "cell_type": "code",
   "execution_count": 205,
   "id": "0e5aeda2",
   "metadata": {},
   "outputs": [
    {
     "data": {
      "text/plain": [
       "'addr_state'"
      ]
     },
     "execution_count": 205,
     "metadata": {},
     "output_type": "execute_result"
    }
   ],
   "source": [
    "string_headers[5]"
   ]
  },
  {
   "cell_type": "code",
   "execution_count": 207,
   "id": "1afd5796",
   "metadata": {},
   "outputs": [],
   "source": [
    "string_headers[5] = \"state address\""
   ]
  },
  {
   "cell_type": "code",
   "execution_count": 214,
   "id": "7f25b252",
   "metadata": {},
   "outputs": [
    {
     "data": {
      "text/plain": [
       "(array(['', 'AK', 'AL', 'AR', 'AZ', 'CA', 'CO', 'CT', 'DC', 'DE', 'FL', 'GA', 'HI', 'IL', 'IN',\n",
       "        'KS', 'KY', 'LA', 'MA', 'MD', 'ME', 'MI', 'MN', 'MO', 'MS', 'MT', 'NC', 'ND', 'NE', 'NH',\n",
       "        'NJ', 'NM', 'NV', 'NY', 'OH', 'OK', 'OR', 'PA', 'RI', 'SC', 'SD', 'TN', 'TX', 'UT', 'VA',\n",
       "        'VT', 'WA', 'WI', 'WV', 'WY'], dtype='<U69'),\n",
       " array([ 500,   26,  119,   74,  220, 1336,  201,  143,   27,   27,  690,  321,   44,  389,  152,\n",
       "          84,   84,  116,  210,  222,   10,  267,  156,  160,   61,   28,  261,   16,   25,   58,\n",
       "         341,   57,  130,  777,  312,   83,  108,  320,   40,  107,   24,  143,  758,   74,  242,\n",
       "          17,  216,  148,   49,   27]))"
      ]
     },
     "execution_count": 214,
     "metadata": {},
     "output_type": "execute_result"
    }
   ],
   "source": [
    "state_name, state_counts = np.unique(loan_string_data[:,5], return_counts=True)\n",
    "state_name, state_counts\n"
   ]
  },
  {
   "cell_type": "code",
   "execution_count": 215,
   "id": "81d03c0a",
   "metadata": {},
   "outputs": [
    {
     "data": {
      "text/plain": [
       "array([ 5, 33, 42, 10,  0, 13, 30, 11, 37, 34, 21, 26, 44, 19,  4, 46, 18,  6, 23, 22, 14, 47,  7,\n",
       "       41, 32,  2, 17, 36, 39, 16, 15, 35, 43,  3, 24, 29, 31, 48, 12, 38, 25,  9,  8, 49,  1, 28,\n",
       "       40, 45, 27, 20])"
      ]
     },
     "execution_count": 215,
     "metadata": {},
     "output_type": "execute_result"
    }
   ],
   "source": [
    "state_counts_sorted = np.argsort(-state_counts)\n",
    "state_counts_sorted"
   ]
  },
  {
   "cell_type": "code",
   "execution_count": 217,
   "id": "fabfab7d",
   "metadata": {},
   "outputs": [
    {
     "data": {
      "text/plain": [
       "(array(['CA', 'NY', 'TX', 'FL', '', 'IL', 'NJ', 'GA', 'PA', 'OH', 'MI', 'NC', 'VA', 'MD', 'AZ',\n",
       "        'WA', 'MA', 'CO', 'MO', 'MN', 'IN', 'WI', 'CT', 'TN', 'NV', 'AL', 'LA', 'OR', 'SC', 'KY',\n",
       "        'KS', 'OK', 'UT', 'AR', 'MS', 'NH', 'NM', 'WV', 'HI', 'RI', 'MT', 'DE', 'DC', 'WY', 'AK',\n",
       "        'NE', 'SD', 'VT', 'ND', 'ME'], dtype='<U69'),\n",
       " array([1336,  777,  758,  690,  500,  389,  341,  321,  320,  312,  267,  261,  242,  222,  220,\n",
       "         216,  210,  201,  160,  156,  152,  148,  143,  143,  130,  119,  116,  108,  107,   84,\n",
       "          84,   83,   74,   74,   61,   58,   57,   49,   44,   40,   28,   27,   27,   27,   26,\n",
       "          25,   24,   17,   16,   10]))"
      ]
     },
     "execution_count": 217,
     "metadata": {},
     "output_type": "execute_result"
    }
   ],
   "source": [
    "state_name[state_counts_sorted], state_counts[state_counts_sorted]"
   ]
  },
  {
   "cell_type": "code",
   "execution_count": 219,
   "id": "e33da0c4",
   "metadata": {},
   "outputs": [],
   "source": [
    "states_west = np.array(['WA', 'OR','CA','NV','ID','MT', 'WY','UT','CO', 'AZ','NM','HI','AK'])\n",
    "states_south = np.array(['TX','OK','AR','LA','MS','AL','TN','KY','FL','GA','SC','NC','VA','WV','MD','DE','DC'])\n",
    "states_midwest = np.array(['ND','SD','NE','KS','MN','IA','MO','WI','IL','IN','MI','OH'])\n",
    "states_east = np.array(['PA','NY','NJ','CT','MA','VT','NH','ME','RI'])"
   ]
  },
  {
   "cell_type": "code",
   "execution_count": 220,
   "id": "9679d6ea",
   "metadata": {},
   "outputs": [],
   "source": [
    "loan_string_data[:, 5] = np.where(loan_string_data[:,5]=='', 0, loan_string_data[:,5])"
   ]
  },
  {
   "cell_type": "code",
   "execution_count": 223,
   "id": "fb5dfd7b",
   "metadata": {},
   "outputs": [],
   "source": [
    "loan_string_data[:, 5] = np.where(np.isin(loan_string_data[:,5], states_west), 1, loan_string_data[:,5])\n",
    "loan_string_data[:, 5] = np.where(np.isin(loan_string_data[:,5], states_south), 2, loan_string_data[:,5])\n",
    "loan_string_data[:, 5] = np.where(np.isin(loan_string_data[:,5], states_midwest), 3, loan_string_data[:,5])\n",
    "loan_string_data[:, 5] = np.where(np.isin(loan_string_data[:,5], states_east), 4, loan_string_data[:,5])"
   ]
  },
  {
   "cell_type": "code",
   "execution_count": 224,
   "id": "65a933fd",
   "metadata": {},
   "outputs": [
    {
     "data": {
      "text/plain": [
       "array(['0', '1', '2', '3', '4'], dtype='<U69')"
      ]
     },
     "execution_count": 224,
     "metadata": {},
     "output_type": "execute_result"
    }
   ],
   "source": [
    "np.unique(loan_string_data[:,5])"
   ]
  },
  {
   "cell_type": "markdown",
   "id": "79e9780a",
   "metadata": {},
   "source": [
    "## Converting string data to number"
   ]
  },
  {
   "cell_type": "code",
   "execution_count": 225,
   "id": "5052e2b9",
   "metadata": {},
   "outputs": [
    {
     "data": {
      "text/plain": [
       "array([['5', '1', '36', '13', '1', '1'],\n",
       "       ['0', '1', '36', '5', '1', '4'],\n",
       "       ['9', '1', '36', '10', '1', '4'],\n",
       "       ...,\n",
       "       ['6', '1', '36', '5', '1', '1'],\n",
       "       ['4', '1', '36', '17', '1', '3'],\n",
       "       ['12', '1', '36', '4', '0', '3']], dtype='<U69')"
      ]
     },
     "execution_count": 225,
     "metadata": {},
     "output_type": "execute_result"
    }
   ],
   "source": [
    "loan_string_data"
   ]
  },
  {
   "cell_type": "code",
   "execution_count": 227,
   "id": "35958def",
   "metadata": {},
   "outputs": [],
   "source": [
    "loan_string_data = loan_string_data.astype(int)"
   ]
  },
  {
   "cell_type": "code",
   "execution_count": 228,
   "id": "82191baf",
   "metadata": {},
   "outputs": [
    {
     "data": {
      "text/plain": [
       "array([[ 5,  1, 36, 13,  1,  1],\n",
       "       [ 0,  1, 36,  5,  1,  4],\n",
       "       [ 9,  1, 36, 10,  1,  4],\n",
       "       ...,\n",
       "       [ 6,  1, 36,  5,  1,  1],\n",
       "       [ 4,  1, 36, 17,  1,  3],\n",
       "       [12,  1, 36,  4,  0,  3]])"
      ]
     },
     "execution_count": 228,
     "metadata": {},
     "output_type": "execute_result"
    }
   ],
   "source": [
    "loan_string_data "
   ]
  },
  {
   "cell_type": "markdown",
   "id": "da549509",
   "metadata": {},
   "source": [
    "## Checkpoint 1: string"
   ]
  },
  {
   "cell_type": "code",
   "execution_count": 229,
   "id": "6fd08fcb",
   "metadata": {},
   "outputs": [],
   "source": [
    "checkpoint_string = check_point(\"Checkpoint_String\", string_headers, loan_string_data)"
   ]
  },
  {
   "cell_type": "code",
   "execution_count": 230,
   "id": "febf2d45",
   "metadata": {},
   "outputs": [
    {
     "data": {
      "text/plain": [
       "<numpy.lib.npyio.NpzFile at 0x7f508612bf40>"
      ]
     },
     "execution_count": 230,
     "metadata": {},
     "output_type": "execute_result"
    }
   ],
   "source": [
    "checkpoint_string"
   ]
  },
  {
   "cell_type": "code",
   "execution_count": 231,
   "id": "6e18e301",
   "metadata": {},
   "outputs": [
    {
     "data": {
      "text/plain": [
       "array([[ 5,  1, 36, 13,  1,  1],\n",
       "       [ 0,  1, 36,  5,  1,  4],\n",
       "       [ 9,  1, 36, 10,  1,  4],\n",
       "       ...,\n",
       "       [ 6,  1, 36,  5,  1,  1],\n",
       "       [ 4,  1, 36, 17,  1,  3],\n",
       "       [12,  1, 36,  4,  0,  3]])"
      ]
     },
     "execution_count": 231,
     "metadata": {},
     "output_type": "execute_result"
    }
   ],
   "source": [
    "checkpoint_string['data']"
   ]
  },
  {
   "cell_type": "code",
   "execution_count": 232,
   "id": "a226553c",
   "metadata": {},
   "outputs": [
    {
     "data": {
      "text/plain": [
       "array(['issue_date', 'loan_status', 'terms months', 'sub_grade', 'verification_status',\n",
       "       'state address'], dtype='<U19')"
      ]
     },
     "execution_count": 232,
     "metadata": {},
     "output_type": "execute_result"
    }
   ],
   "source": [
    "checkpoint_string['header']"
   ]
  },
  {
   "cell_type": "code",
   "execution_count": 234,
   "id": "9756c91f",
   "metadata": {},
   "outputs": [
    {
     "data": {
      "text/plain": [
       "True"
      ]
     },
     "execution_count": 234,
     "metadata": {},
     "output_type": "execute_result"
    }
   ],
   "source": [
    "np.array_equal(checkpoint_string[\"data\"], loan_string_data)"
   ]
  },
  {
   "cell_type": "markdown",
   "id": "22b5285e",
   "metadata": {},
   "source": [
    "# Manipulating numeric data"
   ]
  },
  {
   "cell_type": "code",
   "execution_count": 235,
   "id": "36b8895f",
   "metadata": {},
   "outputs": [
    {
     "data": {
      "text/plain": [
       "array(['id', 'loan_amnt', 'funded_amnt', 'int_rate', 'installment', 'total_pymnt'], dtype='<U19')"
      ]
     },
     "execution_count": 235,
     "metadata": {},
     "output_type": "execute_result"
    }
   ],
   "source": [
    "numeric_headers"
   ]
  },
  {
   "cell_type": "code",
   "execution_count": 237,
   "id": "346af46b",
   "metadata": {},
   "outputs": [
    {
     "data": {
      "text/plain": [
       "array([[48010226.  ,    35000.  ,    35000.  ,       13.33,     1184.86,     9452.96],\n",
       "       [57693261.  ,    30000.  ,    30000.  , 68616520.  ,      938.57,     4679.7 ],\n",
       "       [59432726.  ,    15000.  ,    15000.  , 68616520.  ,      494.86,     1969.83],\n",
       "       ...,\n",
       "       [50415990.  ,    10000.  ,    10000.  , 68616520.  , 68616520.  ,     2185.64],\n",
       "       [46154151.  , 68616520.  ,    10000.  ,       16.55,      354.3 ,     3199.4 ],\n",
       "       [66055249.  ,    10000.  ,    10000.  , 68616520.  ,      309.97,      301.9 ]])"
      ]
     },
     "execution_count": 237,
     "metadata": {},
     "output_type": "execute_result"
    }
   ],
   "source": [
    "loan_numeric_data"
   ]
  },
  {
   "cell_type": "code",
   "execution_count": 239,
   "id": "cfdba48d",
   "metadata": {},
   "outputs": [
    {
     "data": {
      "text/plain": [
       "array([48010226., 57693261., 59432726., ..., 50415990., 46154151., 66055249.])"
      ]
     },
     "execution_count": 239,
     "metadata": {},
     "output_type": "execute_result"
    }
   ],
   "source": [
    "loan_numeric_data[:,0]"
   ]
  },
  {
   "cell_type": "code",
   "execution_count": 241,
   "id": "aef4f17c",
   "metadata": {},
   "outputs": [
    {
     "data": {
      "text/plain": [
       "68616520.0"
      ]
     },
     "execution_count": 241,
     "metadata": {},
     "output_type": "execute_result"
    }
   ],
   "source": [
    "temporary_fill"
   ]
  },
  {
   "cell_type": "code",
   "execution_count": 242,
   "id": "7c648931",
   "metadata": {},
   "outputs": [
    {
     "data": {
      "text/plain": [
       "array(False)"
      ]
     },
     "execution_count": 242,
     "metadata": {},
     "output_type": "execute_result"
    }
   ],
   "source": [
    "np.isin(temporary_fill, loan_numeric_data[:,0])"
   ]
  },
  {
   "cell_type": "code",
   "execution_count": 243,
   "id": "6113f314",
   "metadata": {},
   "outputs": [
    {
     "data": {
      "text/plain": [
       "array([[  373332.  ,         nan,     1000.  ,         nan,     1000.  ,         nan,        6.  ,\n",
       "              31.42,         nan,         nan,         nan,         nan,         nan,        0.  ],\n",
       "       [54015809.19,         nan,    15273.46,         nan,    15311.04,         nan,       16.62,\n",
       "             440.92,         nan,         nan,         nan,         nan,         nan,     3143.85],\n",
       "       [68616519.  ,         nan,    35000.  ,         nan,    35000.  ,         nan,       28.99,\n",
       "            1372.97,         nan,         nan,         nan,         nan,         nan,    41913.62]])"
      ]
     },
     "execution_count": 243,
     "metadata": {},
     "output_type": "execute_result"
    }
   ],
   "source": [
    "temporary_stats"
   ]
  },
  {
   "cell_type": "code",
   "execution_count": 248,
   "id": "f350378c",
   "metadata": {},
   "outputs": [
    {
     "data": {
      "text/plain": [
       "array([[  373332.  ,     1000.  ,     1000.  ,        6.  ,       31.42,        0.  ],\n",
       "       [54015809.19,    15273.46,    15311.04,       16.62,      440.92,     3143.85],\n",
       "       [68616519.  ,    35000.  ,    35000.  ,       28.99,     1372.97,    41913.62]])"
      ]
     },
     "execution_count": 248,
     "metadata": {},
     "output_type": "execute_result"
    }
   ],
   "source": [
    "temporary_stats[:,columns_numeric]"
   ]
  },
  {
   "cell_type": "code",
   "execution_count": 246,
   "id": "b1df97bc",
   "metadata": {},
   "outputs": [
    {
     "data": {
      "text/plain": [
       "array([35000., 30000., 15000., ..., 10000., 10000., 10000.])"
      ]
     },
     "execution_count": 246,
     "metadata": {},
     "output_type": "execute_result"
    }
   ],
   "source": [
    "loan_numeric_data[:, 2 ]"
   ]
  },
  {
   "cell_type": "code",
   "execution_count": 249,
   "id": "60334914",
   "metadata": {},
   "outputs": [],
   "source": [
    "loan_numeric_data[:, 2] = np.where(loan_numeric_data[:, 2]==temporary_fill, \n",
    "                                   temporary_stats[0, columns_numeric[2]], loan_numeric_data[:,2])"
   ]
  },
  {
   "cell_type": "code",
   "execution_count": 250,
   "id": "49c5e257",
   "metadata": {},
   "outputs": [
    {
     "data": {
      "text/plain": [
       "array([35000., 30000., 15000., ..., 10000., 10000., 10000.])"
      ]
     },
     "execution_count": 250,
     "metadata": {},
     "output_type": "execute_result"
    }
   ],
   "source": [
    "loan_numeric_data[:,2]"
   ]
  },
  {
   "cell_type": "code",
   "execution_count": 253,
   "id": "e9dbacde",
   "metadata": {},
   "outputs": [
    {
     "data": {
      "text/plain": [
       "array([[48010226.  ,    35000.  ,    35000.  ,       13.33,     1184.86,     9452.96],\n",
       "       [57693261.  ,    30000.  ,    30000.  ,       28.99,      938.57,     4679.7 ],\n",
       "       [59432726.  ,    15000.  ,    15000.  ,       28.99,      494.86,     1969.83],\n",
       "       ...,\n",
       "       [50415990.  ,    10000.  ,    10000.  ,       28.99,     1372.97,     2185.64],\n",
       "       [46154151.  ,    35000.  ,    10000.  ,       16.55,      354.3 ,     3199.4 ],\n",
       "       [66055249.  ,    10000.  ,    10000.  ,       28.99,      309.97,      301.9 ]])"
      ]
     },
     "execution_count": 253,
     "metadata": {},
     "output_type": "execute_result"
    }
   ],
   "source": [
    "for i in [1, 3,4,5]:\n",
    "    loan_numeric_data[:,i] = np.where(loan_numeric_data[:, i]==temporary_fill, \n",
    "                                      temporary_stats[2, columns_numeric[i]], loan_numeric_data[:, i])\n",
    "\n",
    "loan_numeric_data    "
   ]
  },
  {
   "cell_type": "code",
   "execution_count": 254,
   "id": "8b8db6c0",
   "metadata": {},
   "outputs": [
    {
     "data": {
      "text/plain": [
       "array(False)"
      ]
     },
     "execution_count": 254,
     "metadata": {},
     "output_type": "execute_result"
    }
   ],
   "source": [
    "np.isin(temporary_fill, loan_numeric_data)"
   ]
  },
  {
   "cell_type": "code",
   "execution_count": 255,
   "id": "a88f1c00",
   "metadata": {},
   "outputs": [
    {
     "data": {
      "text/plain": [
       "array(['id', 'loan_amnt', 'funded_amnt', 'int_rate', 'installment', 'total_pymnt'], dtype='<U19')"
      ]
     },
     "execution_count": 255,
     "metadata": {},
     "output_type": "execute_result"
    }
   ],
   "source": [
    "numeric_headers"
   ]
  },
  {
   "cell_type": "code",
   "execution_count": 256,
   "id": "1d1f0dab",
   "metadata": {},
   "outputs": [
    {
     "data": {
      "text/plain": [
       "array(['issue_date', 'loan_status', 'terms months', 'sub_grade', 'verification_status',\n",
       "       'state address'], dtype='<U19')"
      ]
     },
     "execution_count": 256,
     "metadata": {},
     "output_type": "execute_result"
    }
   ],
   "source": [
    "checkpoint_string['header']"
   ]
  },
  {
   "cell_type": "markdown",
   "id": "223751a2",
   "metadata": {},
   "source": [
    "# Exchange rate"
   ]
  },
  {
   "cell_type": "code",
   "execution_count": 267,
   "id": "b242533c",
   "metadata": {},
   "outputs": [],
   "source": [
    "EUR_USD = np.genfromtxt('data/EUR-USD.csv', delimiter=',', skip_header=1, usecols=3)"
   ]
  },
  {
   "cell_type": "code",
   "execution_count": 268,
   "id": "4fe39750",
   "metadata": {},
   "outputs": [
    {
     "data": {
      "text/plain": [
       "array([1.13, 1.12, 1.08, 1.11, 1.1 , 1.12, 1.09, 1.13, 1.13, 1.1 , 1.06, 1.09])"
      ]
     },
     "execution_count": 268,
     "metadata": {},
     "output_type": "execute_result"
    }
   ],
   "source": [
    "EUR_USD"
   ]
  },
  {
   "cell_type": "code",
   "execution_count": 269,
   "id": "c6f2a8c1",
   "metadata": {},
   "outputs": [
    {
     "data": {
      "text/plain": [
       "array([ 5,  0,  9, ...,  6,  4, 12])"
      ]
     },
     "execution_count": 269,
     "metadata": {},
     "output_type": "execute_result"
    }
   ],
   "source": [
    "loan_string_data[:,0]"
   ]
  },
  {
   "cell_type": "code",
   "execution_count": 282,
   "id": "e6f9c02b",
   "metadata": {},
   "outputs": [
    {
     "data": {
      "text/plain": [
       "array([1.1 , 1.11, 1.13, ..., 1.12, 1.11, 1.09])"
      ]
     },
     "execution_count": 282,
     "metadata": {},
     "output_type": "execute_result"
    }
   ],
   "source": [
    "exchange_rate = loan_string_data[:, 0]\n",
    "for i in range(1, 13):\n",
    "    exchange_rate = np.where(exchange_rate==i, EUR_USD[i-1], exchange_rate)\n",
    "    \n",
    "exchange_rate = np.where(exchange_rate==0, np.mean(EUR_USD), exchange_rate)    \n",
    "    \n",
    "exchange_rate    "
   ]
  },
  {
   "cell_type": "code",
   "execution_count": 283,
   "id": "0617e6ff",
   "metadata": {},
   "outputs": [
    {
     "data": {
      "text/plain": [
       "(10000,)"
      ]
     },
     "execution_count": 283,
     "metadata": {},
     "output_type": "execute_result"
    }
   ],
   "source": [
    "exchange_rate.shape"
   ]
  },
  {
   "cell_type": "code",
   "execution_count": 278,
   "id": "98f60d64",
   "metadata": {},
   "outputs": [
    {
     "data": {
      "text/plain": [
       "(10000, 6)"
      ]
     },
     "execution_count": 278,
     "metadata": {},
     "output_type": "execute_result"
    }
   ],
   "source": [
    "loan_string_data.shape"
   ]
  },
  {
   "cell_type": "code",
   "execution_count": 285,
   "id": "d2e6d2d1",
   "metadata": {},
   "outputs": [],
   "source": [
    "exchange_rate = np.reshape(exchange_rate, (10000, 1))"
   ]
  },
  {
   "cell_type": "code",
   "execution_count": 286,
   "id": "7786b247",
   "metadata": {},
   "outputs": [
    {
     "data": {
      "text/plain": [
       "array([[48010226.  ,    35000.  ,    35000.  ,       13.33,     1184.86,     9452.96],\n",
       "       [57693261.  ,    30000.  ,    30000.  ,       28.99,      938.57,     4679.7 ],\n",
       "       [59432726.  ,    15000.  ,    15000.  ,       28.99,      494.86,     1969.83],\n",
       "       ...,\n",
       "       [50415990.  ,    10000.  ,    10000.  ,       28.99,     1372.97,     2185.64],\n",
       "       [46154151.  ,    35000.  ,    10000.  ,       16.55,      354.3 ,     3199.4 ],\n",
       "       [66055249.  ,    10000.  ,    10000.  ,       28.99,      309.97,      301.9 ]])"
      ]
     },
     "execution_count": 286,
     "metadata": {},
     "output_type": "execute_result"
    }
   ],
   "source": [
    "loan_numeric_data"
   ]
  },
  {
   "cell_type": "code",
   "execution_count": 295,
   "id": "0f20fd0d",
   "metadata": {},
   "outputs": [],
   "source": [
    "loan_numeric_data = np.hstack((loan_numeric_data, exchange_rate))"
   ]
  },
  {
   "cell_type": "code",
   "execution_count": 289,
   "id": "a1c923d6",
   "metadata": {},
   "outputs": [
    {
     "data": {
      "text/plain": [
       "array(['id', 'loan_amnt', 'funded_amnt', 'int_rate', 'installment', 'total_pymnt'], dtype='<U19')"
      ]
     },
     "execution_count": 289,
     "metadata": {},
     "output_type": "execute_result"
    }
   ],
   "source": [
    "numeric_headers"
   ]
  },
  {
   "cell_type": "code",
   "execution_count": 296,
   "id": "e878a783",
   "metadata": {},
   "outputs": [],
   "source": [
    "numeric_headers = np.concatenate((numeric_headers, np.array([\"exchange_rate\"])), axis=None)"
   ]
  },
  {
   "cell_type": "markdown",
   "id": "83b212a7",
   "metadata": {},
   "source": [
    "# Convert Dollar to Euro"
   ]
  },
  {
   "cell_type": "code",
   "execution_count": 298,
   "id": "3f47dec1",
   "metadata": {},
   "outputs": [],
   "source": [
    "dollar_columns = [1, 2, 4, 5]"
   ]
  },
  {
   "cell_type": "code",
   "execution_count": 305,
   "id": "75d66a82",
   "metadata": {},
   "outputs": [],
   "source": [
    "for i in dollar_columns:\n",
    "    loan_numeric_data = np.hstack((loan_numeric_data, np.reshape(loan_numeric_data[:, i]/loan_numeric_data[:,6], (10000, 1))))"
   ]
  },
  {
   "cell_type": "code",
   "execution_count": 306,
   "id": "fdcae85d",
   "metadata": {},
   "outputs": [
    {
     "data": {
      "text/plain": [
       "array([[48010226.  ,    35000.  ,    35000.  , ...,    31933.3 ,     1081.04,     8624.69],\n",
       "       [57693261.  ,    30000.  ,    30000.  , ...,    27132.46,      848.86,     4232.39],\n",
       "       [59432726.  ,    15000.  ,    15000.  , ...,    13326.3 ,      439.64,     1750.04],\n",
       "       ...,\n",
       "       [50415990.  ,    10000.  ,    10000.  , ...,     8910.3 ,     1223.36,     1947.47],\n",
       "       [46154151.  ,    35000.  ,    10000.  , ...,     8997.4 ,      318.78,     2878.63],\n",
       "       [66055249.  ,    10000.  ,    10000.  , ...,     9145.8 ,      283.49,      276.11]])"
      ]
     },
     "execution_count": 306,
     "metadata": {},
     "output_type": "execute_result"
    }
   ],
   "source": [
    "loan_numeric_data"
   ]
  },
  {
   "cell_type": "markdown",
   "id": "5e52a97f",
   "metadata": {},
   "source": [
    "# Expending headers"
   ]
  },
  {
   "cell_type": "code",
   "execution_count": 310,
   "id": "d159ec27",
   "metadata": {},
   "outputs": [],
   "source": [
    "additionnal_headers = np.array([\"{}_EUR\".format(head) for head in numeric_headers[dollar_columns]])"
   ]
  },
  {
   "cell_type": "code",
   "execution_count": 311,
   "id": "65507394",
   "metadata": {},
   "outputs": [],
   "source": [
    "numeric_headers  = np.concatenate((numeric_headers, additionnal_headers))"
   ]
  },
  {
   "cell_type": "code",
   "execution_count": 312,
   "id": "3733885e",
   "metadata": {},
   "outputs": [
    {
     "data": {
      "text/plain": [
       "array(['id', 'loan_amnt', 'funded_amnt', 'int_rate', 'installment', 'total_pymnt', 'exchange_rate',\n",
       "       'loan_amnt_EUR', 'funded_amnt_EUR', 'installment_EUR', 'total_pymnt_EUR'], dtype='<U19')"
      ]
     },
     "execution_count": 312,
     "metadata": {},
     "output_type": "execute_result"
    }
   ],
   "source": [
    "numeric_headers"
   ]
  },
  {
   "cell_type": "code",
   "execution_count": 313,
   "id": "61e77cd0",
   "metadata": {},
   "outputs": [],
   "source": [
    "numeric_headers[dollar_columns] = np.array([\"{}_USD\".format(head) for head in numeric_headers[dollar_columns]])"
   ]
  },
  {
   "cell_type": "code",
   "execution_count": 314,
   "id": "098bd57c",
   "metadata": {},
   "outputs": [
    {
     "data": {
      "text/plain": [
       "array(['id', 'loan_amnt_USD', 'funded_amnt_USD', 'int_rate', 'installment_USD', 'total_pymnt_USD',\n",
       "       'exchange_rate', 'loan_amnt_EUR', 'funded_amnt_EUR', 'installment_EUR', 'total_pymnt_EUR'],\n",
       "      dtype='<U19')"
      ]
     },
     "execution_count": 314,
     "metadata": {},
     "output_type": "execute_result"
    }
   ],
   "source": [
    "numeric_headers"
   ]
  },
  {
   "cell_type": "code",
   "execution_count": 315,
   "id": "1501b8dd",
   "metadata": {},
   "outputs": [],
   "source": [
    "columns_index_order = [0, 1,7,2,8,3,4,9,5,10,6]"
   ]
  },
  {
   "cell_type": "code",
   "execution_count": 317,
   "id": "65393656",
   "metadata": {},
   "outputs": [],
   "source": [
    "numeric_headers = numeric_headers[columns_index_order]"
   ]
  },
  {
   "cell_type": "code",
   "execution_count": 318,
   "id": "83628f34",
   "metadata": {},
   "outputs": [
    {
     "data": {
      "text/plain": [
       "array(['id', 'loan_amnt_USD', 'loan_amnt_EUR', 'funded_amnt_USD', 'funded_amnt_EUR', 'int_rate',\n",
       "       'installment_USD', 'installment_EUR', 'total_pymnt_USD', 'total_pymnt_EUR', 'exchange_rate'],\n",
       "      dtype='<U19')"
      ]
     },
     "execution_count": 318,
     "metadata": {},
     "output_type": "execute_result"
    }
   ],
   "source": [
    "numeric_headers"
   ]
  },
  {
   "cell_type": "code",
   "execution_count": 324,
   "id": "38c5711b",
   "metadata": {},
   "outputs": [],
   "source": [
    "loan_numeric_data = loan_numeric_data[:, columns_index_order]"
   ]
  },
  {
   "cell_type": "code",
   "execution_count": 325,
   "id": "8fd7553f",
   "metadata": {},
   "outputs": [
    {
     "data": {
      "text/plain": [
       "array([[48010226.  ,    35000.  ,    31933.3 , ...,     9452.96,    31933.3 ,        1.1 ],\n",
       "       [57693261.  ,    30000.  ,    27132.46, ...,     4679.7 ,    27132.46,        1.11],\n",
       "       [59432726.  ,    15000.  ,    13326.3 , ...,     1969.83,    13326.3 ,        1.13],\n",
       "       ...,\n",
       "       [50415990.  ,    10000.  ,     8910.3 , ...,     2185.64,     8910.3 ,        1.12],\n",
       "       [46154151.  ,    35000.  ,    31490.9 , ...,     3199.4 ,    31490.9 ,        1.11],\n",
       "       [66055249.  ,    10000.  ,     9145.8 , ...,      301.9 ,     9145.8 ,        1.09]])"
      ]
     },
     "execution_count": 325,
     "metadata": {},
     "output_type": "execute_result"
    }
   ],
   "source": [
    "loan_numeric_data"
   ]
  },
  {
   "cell_type": "markdown",
   "id": "fcd6ada6",
   "metadata": {},
   "source": [
    "# Interest rate "
   ]
  },
  {
   "cell_type": "code",
   "execution_count": 326,
   "id": "27c05bda",
   "metadata": {},
   "outputs": [
    {
     "data": {
      "text/plain": [
       "array([13.33, 28.99, 28.99, ..., 28.99, 16.55, 28.99])"
      ]
     },
     "execution_count": 326,
     "metadata": {},
     "output_type": "execute_result"
    }
   ],
   "source": [
    "loan_numeric_data[:,5]"
   ]
  },
  {
   "cell_type": "code",
   "execution_count": 328,
   "id": "a6e9cdf7",
   "metadata": {},
   "outputs": [],
   "source": [
    "loan_numeric_data[:,5] = loan_numeric_data[:, 5]/100"
   ]
  },
  {
   "cell_type": "code",
   "execution_count": 329,
   "id": "bcef6a66",
   "metadata": {},
   "outputs": [
    {
     "data": {
      "text/plain": [
       "array([0.13, 0.29, 0.29, ..., 0.29, 0.17, 0.29])"
      ]
     },
     "execution_count": 329,
     "metadata": {},
     "output_type": "execute_result"
    }
   ],
   "source": [
    "loan_numeric_data[:, 5]"
   ]
  },
  {
   "cell_type": "markdown",
   "id": "cf84cd35",
   "metadata": {},
   "source": [
    "# checkpoint Numeric"
   ]
  },
  {
   "cell_type": "code",
   "execution_count": 330,
   "id": "f22d229a",
   "metadata": {},
   "outputs": [],
   "source": [
    "checkpoint_numeric = check_point(\"check-Numeric\", numeric_headers, loan_numeric_data)"
   ]
  },
  {
   "cell_type": "code",
   "execution_count": 331,
   "id": "086a4d6e",
   "metadata": {},
   "outputs": [
    {
     "data": {
      "text/plain": [
       "(array(['id', 'loan_amnt_USD', 'loan_amnt_EUR', 'funded_amnt_USD', 'funded_amnt_EUR', 'int_rate',\n",
       "        'installment_USD', 'installment_EUR', 'total_pymnt_USD', 'total_pymnt_EUR', 'exchange_rate'],\n",
       "       dtype='<U19'),\n",
       " array([[48010226.  ,    35000.  ,    31933.3 , ...,     9452.96,    31933.3 ,        1.1 ],\n",
       "        [57693261.  ,    30000.  ,    27132.46, ...,     4679.7 ,    27132.46,        1.11],\n",
       "        [59432726.  ,    15000.  ,    13326.3 , ...,     1969.83,    13326.3 ,        1.13],\n",
       "        ...,\n",
       "        [50415990.  ,    10000.  ,     8910.3 , ...,     2185.64,     8910.3 ,        1.12],\n",
       "        [46154151.  ,    35000.  ,    31490.9 , ...,     3199.4 ,    31490.9 ,        1.11],\n",
       "        [66055249.  ,    10000.  ,     9145.8 , ...,      301.9 ,     9145.8 ,        1.09]]))"
      ]
     },
     "execution_count": 331,
     "metadata": {},
     "output_type": "execute_result"
    }
   ],
   "source": [
    "checkpoint_numeric['header'], checkpoint_numeric['data']"
   ]
  },
  {
   "cell_type": "markdown",
   "id": "9db32751",
   "metadata": {},
   "source": [
    "# Complete DataSet"
   ]
  },
  {
   "cell_type": "code",
   "execution_count": 332,
   "id": "0a047bed",
   "metadata": {},
   "outputs": [
    {
     "data": {
      "text/plain": [
       "(10000, 6)"
      ]
     },
     "execution_count": 332,
     "metadata": {},
     "output_type": "execute_result"
    }
   ],
   "source": [
    "checkpoint_string['data'].shape"
   ]
  },
  {
   "cell_type": "code",
   "execution_count": 333,
   "id": "5f256ba4",
   "metadata": {},
   "outputs": [
    {
     "data": {
      "text/plain": [
       "(10000, 11)"
      ]
     },
     "execution_count": 333,
     "metadata": {},
     "output_type": "execute_result"
    }
   ],
   "source": [
    "checkpoint_numeric['data'].shape"
   ]
  },
  {
   "cell_type": "code",
   "execution_count": 336,
   "id": "208cb1f9",
   "metadata": {},
   "outputs": [],
   "source": [
    "loan_data = np.hstack((checkpoint_numeric['data'], checkpoint_string['data']))"
   ]
  },
  {
   "cell_type": "code",
   "execution_count": 337,
   "id": "6fb1ce0b",
   "metadata": {},
   "outputs": [
    {
     "data": {
      "text/plain": [
       "array([[48010226.  ,    35000.  ,    31933.3 , ...,       13.  ,        1.  ,        1.  ],\n",
       "       [57693261.  ,    30000.  ,    27132.46, ...,        5.  ,        1.  ,        4.  ],\n",
       "       [59432726.  ,    15000.  ,    13326.3 , ...,       10.  ,        1.  ,        4.  ],\n",
       "       ...,\n",
       "       [50415990.  ,    10000.  ,     8910.3 , ...,        5.  ,        1.  ,        1.  ],\n",
       "       [46154151.  ,    35000.  ,    31490.9 , ...,       17.  ,        1.  ,        3.  ],\n",
       "       [66055249.  ,    10000.  ,     9145.8 , ...,        4.  ,        0.  ,        3.  ]])"
      ]
     },
     "execution_count": 337,
     "metadata": {},
     "output_type": "execute_result"
    }
   ],
   "source": [
    "loan_data"
   ]
  },
  {
   "cell_type": "code",
   "execution_count": 339,
   "id": "773e5351",
   "metadata": {},
   "outputs": [],
   "source": [
    "loan_full_headers = np.concatenate((checkpoint_numeric['header'], checkpoint_string['header']))"
   ]
  },
  {
   "cell_type": "code",
   "execution_count": 340,
   "id": "0ed5f8d4",
   "metadata": {},
   "outputs": [
    {
     "data": {
      "text/plain": [
       "array(['id', 'loan_amnt_USD', 'loan_amnt_EUR', 'funded_amnt_USD', 'funded_amnt_EUR', 'int_rate',\n",
       "       'installment_USD', 'installment_EUR', 'total_pymnt_USD', 'total_pymnt_EUR', 'exchange_rate',\n",
       "       'issue_date', 'loan_status', 'terms months', 'sub_grade', 'verification_status',\n",
       "       'state address'], dtype='<U19')"
      ]
     },
     "execution_count": 340,
     "metadata": {},
     "output_type": "execute_result"
    }
   ],
   "source": [
    "loan_full_headers"
   ]
  },
  {
   "cell_type": "markdown",
   "id": "585f4e38",
   "metadata": {},
   "source": [
    "# Sort the new data"
   ]
  },
  {
   "cell_type": "code",
   "execution_count": 344,
   "id": "3ff0c5b1",
   "metadata": {},
   "outputs": [],
   "source": [
    "loan_data = loan_data[np.argsort(loan_data[:,0])]"
   ]
  },
  {
   "cell_type": "code",
   "execution_count": 345,
   "id": "28b972fd",
   "metadata": {},
   "outputs": [
    {
     "data": {
      "text/plain": [
       "array([   0,    1,    2, ..., 9997, 9998, 9999])"
      ]
     },
     "execution_count": 345,
     "metadata": {},
     "output_type": "execute_result"
    }
   ],
   "source": [
    "np.argsort(loan_data[:, 0])"
   ]
  },
  {
   "cell_type": "code",
   "execution_count": 346,
   "id": "8f5f35ec",
   "metadata": {},
   "outputs": [
    {
     "data": {
      "text/plain": [
       "array([[  373332.  ,     9950.  ,     9038.08, ...,       21.  ,        0.  ,        1.  ],\n",
       "       [  575239.  ,    12000.  ,    10900.2 , ...,       25.  ,        1.  ,        2.  ],\n",
       "       [  707689.  ,    10000.  ,     8924.3 , ...,       13.  ,        1.  ,        0.  ],\n",
       "       ...,\n",
       "       [68614880.  ,     5600.  ,     5121.65, ...,        8.  ,        1.  ,        1.  ],\n",
       "       [68615915.  ,     4000.  ,     3658.32, ...,       10.  ,        1.  ,        2.  ],\n",
       "       [68616519.  ,    21600.  ,    19754.93, ...,        3.  ,        0.  ,        2.  ]])"
      ]
     },
     "execution_count": 346,
     "metadata": {},
     "output_type": "execute_result"
    }
   ],
   "source": [
    "loan_data"
   ]
  },
  {
   "cell_type": "markdown",
   "id": "bef686b7",
   "metadata": {},
   "source": [
    "# Merging data "
   ]
  },
  {
   "cell_type": "code",
   "execution_count": 352,
   "id": "9150939f",
   "metadata": {},
   "outputs": [],
   "source": [
    "loan_data = np.vstack((loan_full_headers, loan_data))"
   ]
  },
  {
   "cell_type": "code",
   "execution_count": 353,
   "id": "afdf835a",
   "metadata": {},
   "outputs": [
    {
     "data": {
      "text/plain": [
       "array([['id', 'loan_amnt_USD', 'loan_amnt_EUR', ..., 'sub_grade', 'verification_status',\n",
       "        'state address'],\n",
       "       ['id', 'loan_amnt_USD', 'loan_amnt_EUR', ..., 'sub_grade', 'verification_status',\n",
       "        'state address'],\n",
       "       ['373332.0', '9950.0', '9038.082814338286', ..., '21.0', '0.0', '1.0'],\n",
       "       ...,\n",
       "       ['68614880.0', '5600.0', '5121.647851612413', ..., '8.0', '1.0', '1.0'],\n",
       "       ['68615915.0', '4000.0', '3658.319894008867', ..., '10.0', '1.0', '2.0'],\n",
       "       ['68616519.0', '21600.0', '19754.927427647883', ..., '3.0', '0.0', '2.0']], dtype='<U32')"
      ]
     },
     "execution_count": 353,
     "metadata": {},
     "output_type": "execute_result"
    }
   ],
   "source": [
    "loan_data "
   ]
  },
  {
   "cell_type": "code",
   "execution_count": 354,
   "id": "1a0c77de",
   "metadata": {},
   "outputs": [],
   "source": [
    "np.savetxt(\"loan-data-preprocessed.csv\",\n",
    "           loan_data,\n",
    "           delimiter=',',\n",
    "           fmt=\"%s\")"
   ]
  },
  {
   "cell_type": "code",
   "execution_count": null,
   "id": "33ac66ad",
   "metadata": {},
   "outputs": [],
   "source": []
  }
 ],
 "metadata": {
  "kernelspec": {
   "display_name": "Python 3 (ipykernel)",
   "language": "python",
   "name": "python3"
  },
  "language_info": {
   "codemirror_mode": {
    "name": "ipython",
    "version": 3
   },
   "file_extension": ".py",
   "mimetype": "text/x-python",
   "name": "python",
   "nbconvert_exporter": "python",
   "pygments_lexer": "ipython3",
   "version": "3.10.6"
  }
 },
 "nbformat": 4,
 "nbformat_minor": 5
}
