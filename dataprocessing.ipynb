{
 "cells": [
  {
   "cell_type": "code",
   "execution_count": 137,
   "id": "0121a23c",
   "metadata": {},
   "outputs": [],
   "source": [
    "import numpy as np\n",
    "import pandas as pd\n",
    "from numpy.random import shuffle\n",
    "from numpy.random import Generator as gen \n",
    "from numpy.random import PCG64 as pcg\n"
   ]
  },
  {
   "cell_type": "code",
   "execution_count": 138,
   "id": "870aefb2",
   "metadata": {},
   "outputs": [],
   "source": [
    "np.set_printoptions(suppress=True, linewidth=100, precision=2)"
   ]
  },
  {
   "cell_type": "markdown",
   "id": "e536e934",
   "metadata": {},
   "source": [
    "# Importing data"
   ]
  },
  {
   "cell_type": "code",
   "execution_count": 139,
   "id": "fffbe335",
   "metadata": {},
   "outputs": [
    {
     "data": {
      "text/plain": [
       "array([[48010226.  ,         nan,    35000.  , ...,         nan,         nan,     9452.96],\n",
       "       [57693261.  ,         nan,    30000.  , ...,         nan,         nan,     4679.7 ],\n",
       "       [59432726.  ,         nan,    15000.  , ...,         nan,         nan,     1969.83],\n",
       "       ...,\n",
       "       [50415990.  ,         nan,    10000.  , ...,         nan,         nan,     2185.64],\n",
       "       [46154151.  ,         nan,         nan, ...,         nan,         nan,     3199.4 ],\n",
       "       [66055249.  ,         nan,    10000.  , ...,         nan,         nan,      301.9 ]])"
      ]
     },
     "execution_count": 139,
     "metadata": {},
     "output_type": "execute_result"
    }
   ],
   "source": [
    "raw_data = np.genfromtxt('data/loan-data.csv', delimiter=\";\", skip_header = 1, autostrip = True, encoding = \"cp855\")\n",
    "raw_data"
   ]
  },
  {
   "cell_type": "markdown",
   "id": "2cb92b83",
   "metadata": {},
   "source": [
    "# Checking data"
   ]
  },
  {
   "cell_type": "code",
   "execution_count": 140,
   "id": "17584570",
   "metadata": {},
   "outputs": [
    {
     "data": {
      "text/plain": [
       "88005"
      ]
     },
     "execution_count": 140,
     "metadata": {},
     "output_type": "execute_result"
    }
   ],
   "source": [
    "np.isnan(raw_data).sum()"
   ]
  },
  {
   "cell_type": "code",
   "execution_count": 141,
   "id": "fa1171a9",
   "metadata": {},
   "outputs": [
    {
     "name": "stderr",
     "output_type": "stream",
     "text": [
      "/tmp/ipykernel_3906871/2718681720.py:1: RuntimeWarning: Mean of empty slice\n",
      "  temporary_mean = np.nanmean(raw_data, axis=0)\n",
      "/tmp/ipykernel_3906871/2718681720.py:6: RuntimeWarning: All-NaN slice encountered\n",
      "  temporary_stats = np.array([np.nanmin(raw_data, axis=0), temporary_mean, np.nanmax(raw_data, axis=0)])\n"
     ]
    },
    {
     "data": {
      "text/plain": [
       "array([[  373332.  ,         nan,     1000.  ,         nan,     1000.  ,         nan,        6.  ,\n",
       "              31.42,         nan,         nan,         nan,         nan,         nan,        0.  ],\n",
       "       [54015809.19,         nan,    15273.46,         nan,    15311.04,         nan,       16.62,\n",
       "             440.92,         nan,         nan,         nan,         nan,         nan,     3143.85],\n",
       "       [68616519.  ,         nan,    35000.  ,         nan,    35000.  ,         nan,       28.99,\n",
       "            1372.97,         nan,         nan,         nan,         nan,         nan,    41913.62]])"
      ]
     },
     "execution_count": 141,
     "metadata": {},
     "output_type": "execute_result"
    }
   ],
   "source": [
    "temporary_mean = np.nanmean(raw_data, axis=0)\n",
    "\n",
    "temporary_fill= np.nanmax(raw_data) + 1\n",
    "\n",
    "\n",
    "temporary_stats = np.array([np.nanmin(raw_data, axis=0), temporary_mean, np.nanmax(raw_data, axis=0)])\n",
    "\n",
    "temporary_stats"
   ]
  },
  {
   "cell_type": "markdown",
   "id": "27da40e4",
   "metadata": {},
   "source": [
    "# Splitting "
   ]
  },
  {
   "cell_type": "code",
   "execution_count": 142,
   "id": "1505317d",
   "metadata": {},
   "outputs": [
    {
     "data": {
      "text/plain": [
       "array([ 1,  3,  5,  8,  9, 10, 11, 12])"
      ]
     },
     "execution_count": 142,
     "metadata": {},
     "output_type": "execute_result"
    }
   ],
   "source": [
    "columns_string = np.argwhere(np.isnan(temporary_mean)).squeeze()\n",
    "columns_string"
   ]
  },
  {
   "cell_type": "code",
   "execution_count": 143,
   "id": "a3409f4f",
   "metadata": {},
   "outputs": [
    {
     "data": {
      "text/plain": [
       "array([ 0,  2,  4,  6,  7, 13])"
      ]
     },
     "execution_count": 143,
     "metadata": {},
     "output_type": "execute_result"
    }
   ],
   "source": [
    "columns_numeric = np.argwhere(np.isnan(temporary_mean)==False).squeeze()\n",
    "columns_numeric"
   ]
  },
  {
   "cell_type": "markdown",
   "id": "c3315edc",
   "metadata": {},
   "source": [
    "# Re-importing data seprately"
   ]
  },
  {
   "cell_type": "code",
   "execution_count": 144,
   "id": "74a29b8a",
   "metadata": {},
   "outputs": [
    {
     "data": {
      "text/plain": [
       "array([['May-15', 'Current', ' 36 months', ..., 'Verified',\n",
       "        'https://www.lendingclub.com/browse/loanDetail.action?loan_id=48010226', 'CA'],\n",
       "       ['', 'Current', ' 36 months', ..., 'Source Verified',\n",
       "        'https://www.lendingclub.com/browse/loanDetail.action?loan_id=57693261', 'NY'],\n",
       "       ['Sep-15', 'Current', ' 36 months', ..., 'Verified',\n",
       "        'https://www.lendingclub.com/browse/loanDetail.action?loan_id=59432726', 'PA'],\n",
       "       ...,\n",
       "       ['Jun-15', 'Current', ' 36 months', ..., 'Source Verified',\n",
       "        'https://www.lendingclub.com/browse/loanDetail.action?loan_id=50415990', 'CA'],\n",
       "       ['Apr-15', 'Current', ' 36 months', ..., 'Source Verified',\n",
       "        'https://www.lendingclub.com/browse/loanDetail.action?loan_id=46154151', 'OH'],\n",
       "       ['Dec-15', 'Current', ' 36 months', ..., '',\n",
       "        'https://www.lendingclub.com/browse/loanDetail.action?loan_id=66055249', 'IL']],\n",
       "      dtype='<U69')"
      ]
     },
     "execution_count": 144,
     "metadata": {},
     "output_type": "execute_result"
    }
   ],
   "source": [
    "loan_string_data = np.genfromtxt('data/loan-data.csv', delimiter=\";\", skip_header=1, \n",
    "                            usecols=columns_string, encoding=\"cp855\", dtype=np.str_)\n",
    "loan_string_data"
   ]
  },
  {
   "cell_type": "code",
   "execution_count": 145,
   "id": "fee62254",
   "metadata": {},
   "outputs": [
    {
     "data": {
      "text/plain": [
       "array([[48010226.  ,    35000.  ,    35000.  ,       13.33,     1184.86,     9452.96],\n",
       "       [57693261.  ,    30000.  ,    30000.  , 68616520.  ,      938.57,     4679.7 ],\n",
       "       [59432726.  ,    15000.  ,    15000.  , 68616520.  ,      494.86,     1969.83],\n",
       "       ...,\n",
       "       [50415990.  ,    10000.  ,    10000.  , 68616520.  , 68616520.  ,     2185.64],\n",
       "       [46154151.  , 68616520.  ,    10000.  ,       16.55,      354.3 ,     3199.4 ],\n",
       "       [66055249.  ,    10000.  ,    10000.  , 68616520.  ,      309.97,      301.9 ]])"
      ]
     },
     "execution_count": 145,
     "metadata": {},
     "output_type": "execute_result"
    }
   ],
   "source": [
    "loan_numeric_data = np.genfromtxt('data/loan-data.csv', delimiter=\";\", skip_header=1, \n",
    "                            usecols=columns_numeric, encoding=\"cp855\", filling_values=temporary_fill)\n",
    "loan_numeric_data"
   ]
  },
  {
   "cell_type": "markdown",
   "id": "450aad7f",
   "metadata": {},
   "source": [
    "# Rename columns"
   ]
  },
  {
   "cell_type": "code",
   "execution_count": 146,
   "id": "b5211b4b",
   "metadata": {},
   "outputs": [
    {
     "data": {
      "text/plain": [
       "array(['id', 'issue_d', 'loan_amnt', 'loan_status', 'funded_amnt', 'term', 'int_rate',\n",
       "       'installment', 'grade', 'sub_grade', 'verification_status', 'url', 'addr_state',\n",
       "       'total_pymnt'], dtype='<U19')"
      ]
     },
     "execution_count": 146,
     "metadata": {},
     "output_type": "execute_result"
    }
   ],
   "source": [
    "full_header = np.genfromtxt('data/loan-data.csv', delimiter=\";\", skip_footer=raw_data.shape[0], \n",
    "                            encoding=\"cp855\", dtype=np.str_)\n",
    "full_header"
   ]
  },
  {
   "cell_type": "code",
   "execution_count": 147,
   "id": "30f08032",
   "metadata": {},
   "outputs": [],
   "source": [
    "string_headers, numeric_headers = full_header[columns_string], full_header[columns_numeric]\n",
    "    "
   ]
  },
  {
   "cell_type": "code",
   "execution_count": 148,
   "id": "990aec21",
   "metadata": {},
   "outputs": [
    {
     "data": {
      "text/plain": [
       "array(['issue_d', 'loan_status', 'term', 'grade', 'sub_grade', 'verification_status', 'url',\n",
       "       'addr_state'], dtype='<U19')"
      ]
     },
     "execution_count": 148,
     "metadata": {},
     "output_type": "execute_result"
    }
   ],
   "source": [
    "string_headers"
   ]
  },
  {
   "cell_type": "code",
   "execution_count": 149,
   "id": "52f830e7",
   "metadata": {},
   "outputs": [
    {
     "data": {
      "text/plain": [
       "array(['id', 'loan_amnt', 'funded_amnt', 'int_rate', 'installment', 'total_pymnt'], dtype='<U19')"
      ]
     },
     "execution_count": 149,
     "metadata": {},
     "output_type": "execute_result"
    }
   ],
   "source": [
    "numeric_headers"
   ]
  },
  {
   "cell_type": "markdown",
   "id": "59e3002d",
   "metadata": {},
   "source": [
    "# Creating checkpoint"
   ]
  },
  {
   "cell_type": "code",
   "execution_count": 150,
   "id": "3bb06f44",
   "metadata": {},
   "outputs": [],
   "source": [
    "def check_point(filename, checkpoint_header, checkpoint_data):\n",
    "    np.savez(file=filename, header=checkpoint_header, data=checkpoint_data)\n",
    "    variable_checkpoint = np.load(\"{}.npz\".format(filename))\n",
    "    return (variable_checkpoint)"
   ]
  },
  {
   "cell_type": "code",
   "execution_count": 151,
   "id": "ecedfeaa",
   "metadata": {},
   "outputs": [],
   "source": [
    "check_point_test = check_point('loan_string_data', string_headers, loan_string_data)"
   ]
  },
  {
   "cell_type": "code",
   "execution_count": 152,
   "id": "a5f46e8f",
   "metadata": {},
   "outputs": [
    {
     "data": {
      "text/plain": [
       "array([['May-15', 'Current', ' 36 months', ..., 'Verified',\n",
       "        'https://www.lendingclub.com/browse/loanDetail.action?loan_id=48010226', 'CA'],\n",
       "       ['', 'Current', ' 36 months', ..., 'Source Verified',\n",
       "        'https://www.lendingclub.com/browse/loanDetail.action?loan_id=57693261', 'NY'],\n",
       "       ['Sep-15', 'Current', ' 36 months', ..., 'Verified',\n",
       "        'https://www.lendingclub.com/browse/loanDetail.action?loan_id=59432726', 'PA'],\n",
       "       ...,\n",
       "       ['Jun-15', 'Current', ' 36 months', ..., 'Source Verified',\n",
       "        'https://www.lendingclub.com/browse/loanDetail.action?loan_id=50415990', 'CA'],\n",
       "       ['Apr-15', 'Current', ' 36 months', ..., 'Source Verified',\n",
       "        'https://www.lendingclub.com/browse/loanDetail.action?loan_id=46154151', 'OH'],\n",
       "       ['Dec-15', 'Current', ' 36 months', ..., '',\n",
       "        'https://www.lendingclub.com/browse/loanDetail.action?loan_id=66055249', 'IL']],\n",
       "      dtype='<U69')"
      ]
     },
     "execution_count": 152,
     "metadata": {},
     "output_type": "execute_result"
    }
   ],
   "source": [
    "check_point_test['data']"
   ]
  },
  {
   "cell_type": "markdown",
   "id": "b345822d",
   "metadata": {},
   "source": [
    "# Manipulation String Columns"
   ]
  },
  {
   "cell_type": "code",
   "execution_count": 153,
   "id": "b023a096",
   "metadata": {},
   "outputs": [
    {
     "data": {
      "text/plain": [
       "array(['issue_d', 'loan_status', 'term', 'grade', 'sub_grade', 'verification_status', 'url',\n",
       "       'addr_state'], dtype='<U19')"
      ]
     },
     "execution_count": 153,
     "metadata": {},
     "output_type": "execute_result"
    }
   ],
   "source": [
    "string_headers"
   ]
  },
  {
   "cell_type": "code",
   "execution_count": 154,
   "id": "dd3553b8",
   "metadata": {},
   "outputs": [],
   "source": [
    "string_headers[0] = 'issue_date'"
   ]
  },
  {
   "cell_type": "markdown",
   "id": "f71e7bad",
   "metadata": {},
   "source": [
    "### Issue data"
   ]
  },
  {
   "cell_type": "code",
   "execution_count": 155,
   "id": "8b7fa4f2",
   "metadata": {},
   "outputs": [
    {
     "data": {
      "text/plain": [
       "array(['', 'Apr-15', 'Aug-15', 'Dec-15', 'Feb-15', 'Jan-15', 'Jul-15', 'Jun-15', 'Mar-15',\n",
       "       'May-15', 'Nov-15', 'Oct-15', 'Sep-15'], dtype='<U69')"
      ]
     },
     "execution_count": 155,
     "metadata": {},
     "output_type": "execute_result"
    }
   ],
   "source": [
    "np.unique(loan_string_data[:,0])"
   ]
  },
  {
   "cell_type": "code",
   "execution_count": 156,
   "id": "24e6cc92",
   "metadata": {},
   "outputs": [
    {
     "data": {
      "text/plain": [
       "array(['May', '', 'Sep', ..., 'Jun', 'Apr', 'Dec'], dtype='<U69')"
      ]
     },
     "execution_count": 156,
     "metadata": {},
     "output_type": "execute_result"
    }
   ],
   "source": [
    "loan_string_data[:,0] = np.chararray.strip(loan_string_data[:, 0], '-15')\n",
    "loan_string_data[:,0]"
   ]
  },
  {
   "cell_type": "code",
   "execution_count": 157,
   "id": "336313fd",
   "metadata": {},
   "outputs": [],
   "source": [
    "months = np.array(['', 'Jan', 'Feb', 'Mar', \"Apr\", \"May\", \"Jun\", \"Jul\", \"Aug\", \"Sep\", \"Oct\", \"Nov\", \"Dec\"])"
   ]
  },
  {
   "cell_type": "code",
   "execution_count": 158,
   "id": "d9082c18",
   "metadata": {},
   "outputs": [
    {
     "data": {
      "text/plain": [
       "array(['5', '0', '9', ..., '6', '4', '12'], dtype='<U69')"
      ]
     },
     "execution_count": 158,
     "metadata": {},
     "output_type": "execute_result"
    }
   ],
   "source": [
    "for i in range(13):\n",
    "    loan_string_data[:,0] = np.where(loan_string_data[:,0]==months[i],i, loan_string_data[:,0])\n",
    "    \n",
    "loan_string_data[:, 0]    "
   ]
  },
  {
   "cell_type": "markdown",
   "id": "63fdc30e",
   "metadata": {},
   "source": [
    "### Loan Status"
   ]
  },
  {
   "cell_type": "code",
   "execution_count": 159,
   "id": "f3362527",
   "metadata": {},
   "outputs": [
    {
     "data": {
      "text/plain": [
       "array(['', 'Charged Off', 'Current', 'Default', 'Fully Paid', 'In Grace Period', 'Issued',\n",
       "       'Late (16-30 days)', 'Late (31-120 days)'], dtype='<U69')"
      ]
     },
     "execution_count": 159,
     "metadata": {},
     "output_type": "execute_result"
    }
   ],
   "source": [
    "np.unique(loan_string_data[:,1])"
   ]
  },
  {
   "cell_type": "code",
   "execution_count": 160,
   "id": "75c99d02",
   "metadata": {},
   "outputs": [],
   "source": [
    "bad_status = np.array(['Charged Off', \"Default\", \"Late (31-120 days)\"])"
   ]
  },
  {
   "cell_type": "code",
   "execution_count": 161,
   "id": "d86c0353",
   "metadata": {},
   "outputs": [],
   "source": [
    "loan_string_data[:,1] = np.where(np.isin(loan_string_data[:,1], bad_status), 0, 1)"
   ]
  },
  {
   "cell_type": "code",
   "execution_count": 162,
   "id": "0b3fda0d",
   "metadata": {},
   "outputs": [
    {
     "data": {
      "text/plain": [
       "array(['0', '1'], dtype='<U69')"
      ]
     },
     "execution_count": 162,
     "metadata": {},
     "output_type": "execute_result"
    }
   ],
   "source": [
    "np.unique(loan_string_data[:, 1])"
   ]
  },
  {
   "cell_type": "markdown",
   "id": "d44eab5d",
   "metadata": {},
   "source": [
    "### Terms "
   ]
  },
  {
   "cell_type": "code",
   "execution_count": 163,
   "id": "8e2d1b0c",
   "metadata": {},
   "outputs": [
    {
     "data": {
      "text/plain": [
       "array(['issue_date', 'loan_status', 'term', 'grade', 'sub_grade', 'verification_status', 'url',\n",
       "       'addr_state'], dtype='<U19')"
      ]
     },
     "execution_count": 163,
     "metadata": {},
     "output_type": "execute_result"
    }
   ],
   "source": [
    "string_headers"
   ]
  },
  {
   "cell_type": "code",
   "execution_count": 164,
   "id": "7e0c946b",
   "metadata": {},
   "outputs": [],
   "source": [
    "string_headers[2] = \"terms months\""
   ]
  },
  {
   "cell_type": "code",
   "execution_count": 165,
   "id": "b36881dc",
   "metadata": {},
   "outputs": [
    {
     "data": {
      "text/plain": [
       "array(['', ' 36 months', ' 60 months'], dtype='<U69')"
      ]
     },
     "execution_count": 165,
     "metadata": {},
     "output_type": "execute_result"
    }
   ],
   "source": [
    "np.unique(loan_string_data[:,2])"
   ]
  },
  {
   "cell_type": "code",
   "execution_count": 166,
   "id": "e0dfbd54",
   "metadata": {},
   "outputs": [
    {
     "data": {
      "text/plain": [
       "array(['36', '36', '36', ..., '36', '36', '36'], dtype='<U69')"
      ]
     },
     "execution_count": 166,
     "metadata": {},
     "output_type": "execute_result"
    }
   ],
   "source": [
    "loan_string_data[:,2] = np.chararray.strip(loan_string_data[:,2], \" months \")\n",
    "loan_string_data[:, 2]"
   ]
  },
  {
   "cell_type": "code",
   "execution_count": 167,
   "id": "0574cecc",
   "metadata": {},
   "outputs": [],
   "source": [
    "loan_string_data[:,2] = np.where(loan_string_data[:,2]=='', '60', loan_string_data[:,2])"
   ]
  },
  {
   "cell_type": "code",
   "execution_count": 168,
   "id": "d63cafd4",
   "metadata": {},
   "outputs": [
    {
     "data": {
      "text/plain": [
       "array(['36', '36', '36', ..., '36', '36', '36'], dtype='<U69')"
      ]
     },
     "execution_count": 168,
     "metadata": {},
     "output_type": "execute_result"
    }
   ],
   "source": [
    "loan_string_data[:, 2]"
   ]
  },
  {
   "cell_type": "markdown",
   "id": "3a1a8219",
   "metadata": {},
   "source": [
    "### Grade and Sub-Grade"
   ]
  },
  {
   "cell_type": "code",
   "execution_count": 169,
   "id": "25441f82",
   "metadata": {},
   "outputs": [
    {
     "data": {
      "text/plain": [
       "array(['issue_date', 'loan_status', 'terms months', 'grade', 'sub_grade', 'verification_status',\n",
       "       'url', 'addr_state'], dtype='<U19')"
      ]
     },
     "execution_count": 169,
     "metadata": {},
     "output_type": "execute_result"
    }
   ],
   "source": [
    "string_headers"
   ]
  },
  {
   "cell_type": "code",
   "execution_count": 170,
   "id": "0386da6f",
   "metadata": {},
   "outputs": [
    {
     "data": {
      "text/plain": [
       "array(['', 'A', 'B', 'C', 'D', 'E', 'F', 'G'], dtype='<U69')"
      ]
     },
     "execution_count": 170,
     "metadata": {},
     "output_type": "execute_result"
    }
   ],
   "source": [
    "np.unique(loan_string_data[:, 3])"
   ]
  },
  {
   "cell_type": "code",
   "execution_count": 171,
   "id": "f477baaf",
   "metadata": {},
   "outputs": [
    {
     "data": {
      "text/plain": [
       "(array(['', 'A1', 'A2', 'A3', 'A4', 'A5', 'B1', 'B2', 'B3', 'B4', 'B5', 'C1', 'C2', 'C3', 'C4',\n",
       "        'C5', 'D1', 'D2', 'D3', 'D4', 'D5', 'E1', 'E2', 'E3', 'E4', 'E5', 'F1', 'F2', 'F3', 'F4',\n",
       "        'F5', 'G1', 'G2', 'G3', 'G4', 'G5'], dtype='<U69'),\n",
       " array([514, 285, 278, 239, 323, 502, 509, 517, 530, 553, 494, 629, 567, 586, 564, 423, 391, 267,\n",
       "        250, 255, 223, 235, 162, 171, 139, 114,  94,  52,  34,  43,  16,  19,  10,   3,   7,   2]))"
      ]
     },
     "execution_count": 171,
     "metadata": {},
     "output_type": "execute_result"
    }
   ],
   "source": [
    "np.unique(loan_string_data[:, 4], return_counts=True)"
   ]
  },
  {
   "cell_type": "markdown",
   "id": "f8c03d17",
   "metadata": {},
   "source": [
    " ### Filling Subgrade"
   ]
  },
  {
   "cell_type": "code",
   "execution_count": 172,
   "id": "bf34c0e7",
   "metadata": {},
   "outputs": [
    {
     "data": {
      "text/plain": [
       "(array(['', 'A1', 'A2', 'A3', 'A4', 'A5', 'B1', 'B2', 'B3', 'B4', 'B5', 'C1', 'C2', 'C3', 'C4',\n",
       "        'C5', 'D1', 'D2', 'D3', 'D4', 'D5', 'E1', 'E2', 'E3', 'E4', 'E5', 'F1', 'F2', 'F3', 'F4',\n",
       "        'F5', 'G1', 'G2', 'G3', 'G4', 'G5'], dtype='<U69'),\n",
       " array([  9, 285, 278, 239, 323, 592, 509, 517, 530, 553, 633, 629, 567, 586, 564, 577, 391, 267,\n",
       "        250, 255, 288, 235, 162, 171, 139, 160,  94,  52,  34,  43,  24,  19,  10,   3,   7,   5]))"
      ]
     },
     "execution_count": 172,
     "metadata": {},
     "output_type": "execute_result"
    }
   ],
   "source": [
    "for i in np.unique(loan_string_data[:, 3])[1:]:\n",
    "    loan_string_data[:,4] = np.where((loan_string_data[:, 4]=='') & (loan_string_data[:,3]==i), i + \"5\",\n",
    "                                    loan_string_data[:, 4])\n",
    "np.unique(loan_string_data[:,4], return_counts=True) "
   ]
  },
  {
   "cell_type": "code",
   "execution_count": 173,
   "id": "4877a70d",
   "metadata": {},
   "outputs": [
    {
     "data": {
      "text/plain": [
       "(array(['A1', 'A2', 'A3', 'A4', 'A5', 'B1', 'B2', 'B3', 'B4', 'B5', 'C1', 'C2', 'C3', 'C4', 'C5',\n",
       "        'D1', 'D2', 'D3', 'D4', 'D5', 'E1', 'E2', 'E3', 'E4', 'E5', 'F1', 'F2', 'F3', 'F4', 'F5',\n",
       "        'G1', 'G2', 'G3', 'G4', 'G5', 'H1'], dtype='<U69'),\n",
       " array([285, 278, 239, 323, 592, 509, 517, 530, 553, 633, 629, 567, 586, 564, 577, 391, 267, 250,\n",
       "        255, 288, 235, 162, 171, 139, 160,  94,  52,  34,  43,  24,  19,  10,   3,   7,   5,   9]))"
      ]
     },
     "execution_count": 173,
     "metadata": {},
     "output_type": "execute_result"
    }
   ],
   "source": [
    "loan_string_data[:,4] = np.where(loan_string_data[:, 4]=='', \"H1\",\n",
    "                                    loan_string_data[:, 4])\n",
    "np.unique(loan_string_data[:,4], return_counts=True) "
   ]
  },
  {
   "cell_type": "markdown",
   "id": "8b447bee",
   "metadata": {},
   "source": [
    "### Removing grade columns"
   ]
  },
  {
   "cell_type": "code",
   "execution_count": 174,
   "id": "691533e9",
   "metadata": {},
   "outputs": [],
   "source": [
    "loan_string_data = np.delete(loan_string_data, 3, axis=1)"
   ]
  },
  {
   "cell_type": "code",
   "execution_count": 175,
   "id": "10e482f9",
   "metadata": {},
   "outputs": [
    {
     "data": {
      "text/plain": [
       "array(['C3', 'A5', 'B5', ..., 'A5', 'D2', 'A4'], dtype='<U69')"
      ]
     },
     "execution_count": 175,
     "metadata": {},
     "output_type": "execute_result"
    }
   ],
   "source": [
    "loan_string_data[:,3]"
   ]
  },
  {
   "cell_type": "code",
   "execution_count": 176,
   "id": "75759a09",
   "metadata": {},
   "outputs": [
    {
     "data": {
      "text/plain": [
       "'sub_grade'"
      ]
     },
     "execution_count": 176,
     "metadata": {},
     "output_type": "execute_result"
    }
   ],
   "source": [
    "string_headers = np.delete(string_headers, 3)\n",
    "string_headers[3]"
   ]
  },
  {
   "cell_type": "markdown",
   "id": "4bc7e8f6",
   "metadata": {},
   "source": [
    "### Converting sub-grade to number"
   ]
  },
  {
   "cell_type": "code",
   "execution_count": 177,
   "id": "7e140195",
   "metadata": {},
   "outputs": [
    {
     "data": {
      "text/plain": [
       "(array(['A1', 'A2', 'A3', 'A4', 'A5', 'B1', 'B2', 'B3', 'B4', 'B5', 'C1', 'C2', 'C3', 'C4', 'C5',\n",
       "        'D1', 'D2', 'D3', 'D4', 'D5', 'E1', 'E2', 'E3', 'E4', 'E5', 'F1', 'F2', 'F3', 'F4', 'F5',\n",
       "        'G1', 'G2', 'G3', 'G4', 'G5', 'H1'], dtype='<U69'),\n",
       " array([285, 278, 239, 323, 592, 509, 517, 530, 553, 633, 629, 567, 586, 564, 577, 391, 267, 250,\n",
       "        255, 288, 235, 162, 171, 139, 160,  94,  52,  34,  43,  24,  19,  10,   3,   7,   5,   9]))"
      ]
     },
     "execution_count": 177,
     "metadata": {},
     "output_type": "execute_result"
    }
   ],
   "source": [
    "np.unique(loan_string_data[:, 3], return_counts=True)"
   ]
  },
  {
   "cell_type": "code",
   "execution_count": 178,
   "id": "1604f984",
   "metadata": {},
   "outputs": [],
   "source": [
    "keys = list(np.unique(loan_string_data[:, 3]))\n",
    "values = list(range(1, np.unique(loan_string_data[:, 3]).shape[0] + 1))\n",
    "dict_sub_grade = dict(zip(keys, values))"
   ]
  },
  {
   "cell_type": "code",
   "execution_count": 179,
   "id": "642ddae0",
   "metadata": {},
   "outputs": [
    {
     "data": {
      "text/plain": [
       "{'A1': 1,\n",
       " 'A2': 2,\n",
       " 'A3': 3,\n",
       " 'A4': 4,\n",
       " 'A5': 5,\n",
       " 'B1': 6,\n",
       " 'B2': 7,\n",
       " 'B3': 8,\n",
       " 'B4': 9,\n",
       " 'B5': 10,\n",
       " 'C1': 11,\n",
       " 'C2': 12,\n",
       " 'C3': 13,\n",
       " 'C4': 14,\n",
       " 'C5': 15,\n",
       " 'D1': 16,\n",
       " 'D2': 17,\n",
       " 'D3': 18,\n",
       " 'D4': 19,\n",
       " 'D5': 20,\n",
       " 'E1': 21,\n",
       " 'E2': 22,\n",
       " 'E3': 23,\n",
       " 'E4': 24,\n",
       " 'E5': 25,\n",
       " 'F1': 26,\n",
       " 'F2': 27,\n",
       " 'F3': 28,\n",
       " 'F4': 29,\n",
       " 'F5': 30,\n",
       " 'G1': 31,\n",
       " 'G2': 32,\n",
       " 'G3': 33,\n",
       " 'G4': 34,\n",
       " 'G5': 35,\n",
       " 'H1': 36}"
      ]
     },
     "execution_count": 179,
     "metadata": {},
     "output_type": "execute_result"
    }
   ],
   "source": [
    "dict_sub_grade"
   ]
  },
  {
   "cell_type": "code",
   "execution_count": 180,
   "id": "ef078303",
   "metadata": {},
   "outputs": [
    {
     "data": {
      "text/plain": [
       "array(['13', '5', '10', ..., '5', '17', '4'], dtype='<U69')"
      ]
     },
     "execution_count": 180,
     "metadata": {},
     "output_type": "execute_result"
    }
   ],
   "source": [
    "for i in keys:\n",
    "    loan_string_data[:,3] = np.where(loan_string_data[:, 3]==i, dict_sub_grade[i], loan_string_data[:,3])\n",
    "\n",
    "loan_string_data[:, 3]    "
   ]
  },
  {
   "cell_type": "markdown",
   "id": "46d15170",
   "metadata": {},
   "source": [
    "### Verification Status"
   ]
  },
  {
   "cell_type": "code",
   "execution_count": 181,
   "id": "0a6df304",
   "metadata": {},
   "outputs": [
    {
     "data": {
      "text/plain": [
       "array(['issue_date', 'loan_status', 'terms months', 'sub_grade', 'verification_status', 'url',\n",
       "       'addr_state'], dtype='<U19')"
      ]
     },
     "execution_count": 181,
     "metadata": {},
     "output_type": "execute_result"
    }
   ],
   "source": [
    "string_headers"
   ]
  },
  {
   "cell_type": "code",
   "execution_count": 184,
   "id": "3f999db1",
   "metadata": {},
   "outputs": [
    {
     "data": {
      "text/plain": [
       "array(['0', '1'], dtype='<U69')"
      ]
     },
     "execution_count": 184,
     "metadata": {},
     "output_type": "execute_result"
    }
   ],
   "source": [
    "np.unique(loan_string_data[:, 4])"
   ]
  },
  {
   "cell_type": "code",
   "execution_count": 183,
   "id": "88092b35",
   "metadata": {},
   "outputs": [
    {
     "data": {
      "text/plain": [
       "array(['1', '1', '1', ..., '1', '1', '0'], dtype='<U69')"
      ]
     },
     "execution_count": 183,
     "metadata": {},
     "output_type": "execute_result"
    }
   ],
   "source": [
    "bad_status_verified = np.array(['', 'Not Verified'])\n",
    "\n",
    "loan_string_data[:,4] = np.where(np.isin(loan_string_data[:,4] , bad_status_verified), 0, 1)\n",
    "loan_string_data[:,4]"
   ]
  },
  {
   "cell_type": "markdown",
   "id": "60d80e6c",
   "metadata": {},
   "source": [
    "### Url "
   ]
  },
  {
   "cell_type": "code",
   "execution_count": 185,
   "id": "cc68e9a4",
   "metadata": {},
   "outputs": [
    {
     "data": {
      "text/plain": [
       "array(['issue_date', 'loan_status', 'terms months', 'sub_grade', 'verification_status', 'url',\n",
       "       'addr_state'], dtype='<U19')"
      ]
     },
     "execution_count": 185,
     "metadata": {},
     "output_type": "execute_result"
    }
   ],
   "source": [
    "string_headers"
   ]
  },
  {
   "cell_type": "code",
   "execution_count": 186,
   "id": "e45ca445",
   "metadata": {},
   "outputs": [
    {
     "data": {
      "text/plain": [
       "array(['https://www.lendingclub.com/browse/loanDetail.action?loan_id=48010226',\n",
       "       'https://www.lendingclub.com/browse/loanDetail.action?loan_id=57693261',\n",
       "       'https://www.lendingclub.com/browse/loanDetail.action?loan_id=59432726', ...,\n",
       "       'https://www.lendingclub.com/browse/loanDetail.action?loan_id=50415990',\n",
       "       'https://www.lendingclub.com/browse/loanDetail.action?loan_id=46154151',\n",
       "       'https://www.lendingclub.com/browse/loanDetail.action?loan_id=66055249'], dtype='<U69')"
      ]
     },
     "execution_count": 186,
     "metadata": {},
     "output_type": "execute_result"
    }
   ],
   "source": [
    "loan_string_data[:, 5]"
   ]
  },
  {
   "cell_type": "code",
   "execution_count": 187,
   "id": "8f787967",
   "metadata": {},
   "outputs": [],
   "source": [
    "loan_string_data[:,5] = np.chararray.strip(loan_string_data[:, 5], 'https://www.lendingclub.com/browse/loanDetail.action?loan_id=')"
   ]
  },
  {
   "cell_type": "code",
   "execution_count": 188,
   "id": "1a9f6d36",
   "metadata": {},
   "outputs": [
    {
     "data": {
      "text/plain": [
       "array(['48010226', '57693261', '59432726', ..., '50415990', '46154151', '66055249'], dtype='<U69')"
      ]
     },
     "execution_count": 188,
     "metadata": {},
     "output_type": "execute_result"
    }
   ],
   "source": [
    "loan_string_data[:, 5]"
   ]
  },
  {
   "cell_type": "code",
   "execution_count": 194,
   "id": "b9be4a10",
   "metadata": {},
   "outputs": [
    {
     "data": {
      "text/plain": [
       "array([48010226., 57693261., 59432726., ..., 50415990., 46154151., 66055249.])"
      ]
     },
     "execution_count": 194,
     "metadata": {},
     "output_type": "execute_result"
    }
   ],
   "source": [
    "loan_numeric_data[:,0]"
   ]
  },
  {
   "cell_type": "code",
   "execution_count": 197,
   "id": "6b889de7",
   "metadata": {},
   "outputs": [
    {
     "data": {
      "text/plain": [
       "True"
      ]
     },
     "execution_count": 197,
     "metadata": {},
     "output_type": "execute_result"
    }
   ],
   "source": [
    "np.array_equal(loan_string_data[:, 5].astype(dtype=np.int32), loan_numeric_data[:, 0].astype(dtype=np.int32))"
   ]
  },
  {
   "cell_type": "code",
   "execution_count": 206,
   "id": "ebc88976",
   "metadata": {},
   "outputs": [],
   "source": [
    "loan_string_data = np.delete(loan_string_data, 5, axis=1)"
   ]
  },
  {
   "cell_type": "code",
   "execution_count": 204,
   "id": "84d8d183",
   "metadata": {},
   "outputs": [],
   "source": [
    "string_headers = np.delete(string_headers, 5)"
   ]
  },
  {
   "cell_type": "markdown",
   "id": "dd2600de",
   "metadata": {},
   "source": [
    "### Address state"
   ]
  },
  {
   "cell_type": "code",
   "execution_count": 205,
   "id": "9acd4583",
   "metadata": {},
   "outputs": [
    {
     "data": {
      "text/plain": [
       "'addr_state'"
      ]
     },
     "execution_count": 205,
     "metadata": {},
     "output_type": "execute_result"
    }
   ],
   "source": [
    "string_headers[5]"
   ]
  },
  {
   "cell_type": "code",
   "execution_count": 207,
   "id": "84905293",
   "metadata": {},
   "outputs": [],
   "source": [
    "string_headers[5] = \"state address\""
   ]
  },
  {
   "cell_type": "code",
   "execution_count": 214,
   "id": "c9f7f0c1",
   "metadata": {},
   "outputs": [
    {
     "data": {
      "text/plain": [
       "(array(['', 'AK', 'AL', 'AR', 'AZ', 'CA', 'CO', 'CT', 'DC', 'DE', 'FL', 'GA', 'HI', 'IL', 'IN',\n",
       "        'KS', 'KY', 'LA', 'MA', 'MD', 'ME', 'MI', 'MN', 'MO', 'MS', 'MT', 'NC', 'ND', 'NE', 'NH',\n",
       "        'NJ', 'NM', 'NV', 'NY', 'OH', 'OK', 'OR', 'PA', 'RI', 'SC', 'SD', 'TN', 'TX', 'UT', 'VA',\n",
       "        'VT', 'WA', 'WI', 'WV', 'WY'], dtype='<U69'),\n",
       " array([ 500,   26,  119,   74,  220, 1336,  201,  143,   27,   27,  690,  321,   44,  389,  152,\n",
       "          84,   84,  116,  210,  222,   10,  267,  156,  160,   61,   28,  261,   16,   25,   58,\n",
       "         341,   57,  130,  777,  312,   83,  108,  320,   40,  107,   24,  143,  758,   74,  242,\n",
       "          17,  216,  148,   49,   27]))"
      ]
     },
     "execution_count": 214,
     "metadata": {},
     "output_type": "execute_result"
    }
   ],
   "source": [
    "state_name, state_counts = np.unique(loan_string_data[:,5], return_counts=True)\n",
    "state_name, state_counts\n"
   ]
  },
  {
   "cell_type": "code",
   "execution_count": 215,
   "id": "e693162e",
   "metadata": {},
   "outputs": [
    {
     "data": {
      "text/plain": [
       "array([ 5, 33, 42, 10,  0, 13, 30, 11, 37, 34, 21, 26, 44, 19,  4, 46, 18,  6, 23, 22, 14, 47,  7,\n",
       "       41, 32,  2, 17, 36, 39, 16, 15, 35, 43,  3, 24, 29, 31, 48, 12, 38, 25,  9,  8, 49,  1, 28,\n",
       "       40, 45, 27, 20])"
      ]
     },
     "execution_count": 215,
     "metadata": {},
     "output_type": "execute_result"
    }
   ],
   "source": [
    "state_counts_sorted = np.argsort(-state_counts)\n",
    "state_counts_sorted"
   ]
  },
  {
   "cell_type": "code",
   "execution_count": 217,
   "id": "ac54f0ac",
   "metadata": {},
   "outputs": [
    {
     "data": {
      "text/plain": [
       "(array(['CA', 'NY', 'TX', 'FL', '', 'IL', 'NJ', 'GA', 'PA', 'OH', 'MI', 'NC', 'VA', 'MD', 'AZ',\n",
       "        'WA', 'MA', 'CO', 'MO', 'MN', 'IN', 'WI', 'CT', 'TN', 'NV', 'AL', 'LA', 'OR', 'SC', 'KY',\n",
       "        'KS', 'OK', 'UT', 'AR', 'MS', 'NH', 'NM', 'WV', 'HI', 'RI', 'MT', 'DE', 'DC', 'WY', 'AK',\n",
       "        'NE', 'SD', 'VT', 'ND', 'ME'], dtype='<U69'),\n",
       " array([1336,  777,  758,  690,  500,  389,  341,  321,  320,  312,  267,  261,  242,  222,  220,\n",
       "         216,  210,  201,  160,  156,  152,  148,  143,  143,  130,  119,  116,  108,  107,   84,\n",
       "          84,   83,   74,   74,   61,   58,   57,   49,   44,   40,   28,   27,   27,   27,   26,\n",
       "          25,   24,   17,   16,   10]))"
      ]
     },
     "execution_count": 217,
     "metadata": {},
     "output_type": "execute_result"
    }
   ],
   "source": [
    "state_name[state_counts_sorted], state_counts[state_counts_sorted]"
   ]
  },
  {
   "cell_type": "code",
   "execution_count": 219,
   "id": "b83312ea",
   "metadata": {},
   "outputs": [],
   "source": [
    "states_west = np.array(['WA', 'OR','CA','NV','ID','MT', 'WY','UT','CO', 'AZ','NM','HI','AK'])\n",
    "states_south = np.array(['TX','OK','AR','LA','MS','AL','TN','KY','FL','GA','SC','NC','VA','WV','MD','DE','DC'])\n",
    "states_midwest = np.array(['ND','SD','NE','KS','MN','IA','MO','WI','IL','IN','MI','OH'])\n",
    "states_east = np.array(['PA','NY','NJ','CT','MA','VT','NH','ME','RI'])"
   ]
  },
  {
   "cell_type": "code",
   "execution_count": 220,
   "id": "b8f22948",
   "metadata": {},
   "outputs": [],
   "source": [
    "loan_string_data[:, 5] = np.where(loan_string_data[:,5]=='', 0, loan_string_data[:,5])"
   ]
  },
  {
   "cell_type": "code",
   "execution_count": 223,
   "id": "41d4a029",
   "metadata": {},
   "outputs": [],
   "source": [
    "loan_string_data[:, 5] = np.where(np.isin(loan_string_data[:,5], states_west), 1, loan_string_data[:,5])\n",
    "loan_string_data[:, 5] = np.where(np.isin(loan_string_data[:,5], states_south), 2, loan_string_data[:,5])\n",
    "loan_string_data[:, 5] = np.where(np.isin(loan_string_data[:,5], states_midwest), 3, loan_string_data[:,5])\n",
    "loan_string_data[:, 5] = np.where(np.isin(loan_string_data[:,5], states_east), 4, loan_string_data[:,5])"
   ]
  },
  {
   "cell_type": "code",
   "execution_count": 224,
   "id": "5e7ab707",
   "metadata": {},
   "outputs": [
    {
     "data": {
      "text/plain": [
       "array(['0', '1', '2', '3', '4'], dtype='<U69')"
      ]
     },
     "execution_count": 224,
     "metadata": {},
     "output_type": "execute_result"
    }
   ],
   "source": [
    "np.unique(loan_string_data[:,5])"
   ]
  },
  {
   "cell_type": "markdown",
   "id": "81535b48",
   "metadata": {},
   "source": [
    "## Converting string data to number"
   ]
  },
  {
   "cell_type": "code",
   "execution_count": 225,
   "id": "e9e0e778",
   "metadata": {},
   "outputs": [
    {
     "data": {
      "text/plain": [
       "array([['5', '1', '36', '13', '1', '1'],\n",
       "       ['0', '1', '36', '5', '1', '4'],\n",
       "       ['9', '1', '36', '10', '1', '4'],\n",
       "       ...,\n",
       "       ['6', '1', '36', '5', '1', '1'],\n",
       "       ['4', '1', '36', '17', '1', '3'],\n",
       "       ['12', '1', '36', '4', '0', '3']], dtype='<U69')"
      ]
     },
     "execution_count": 225,
     "metadata": {},
     "output_type": "execute_result"
    }
   ],
   "source": [
    "loan_string_data"
   ]
  },
  {
   "cell_type": "code",
   "execution_count": 227,
   "id": "4026b2ce",
   "metadata": {},
   "outputs": [],
   "source": [
    "loan_string_data = loan_string_data.astype(int)"
   ]
  },
  {
   "cell_type": "code",
   "execution_count": 228,
   "id": "bd455298",
   "metadata": {},
   "outputs": [
    {
     "data": {
      "text/plain": [
       "array([[ 5,  1, 36, 13,  1,  1],\n",
       "       [ 0,  1, 36,  5,  1,  4],\n",
       "       [ 9,  1, 36, 10,  1,  4],\n",
       "       ...,\n",
       "       [ 6,  1, 36,  5,  1,  1],\n",
       "       [ 4,  1, 36, 17,  1,  3],\n",
       "       [12,  1, 36,  4,  0,  3]])"
      ]
     },
     "execution_count": 228,
     "metadata": {},
     "output_type": "execute_result"
    }
   ],
   "source": [
    "loan_string_data "
   ]
  },
  {
   "cell_type": "markdown",
   "id": "517a2336",
   "metadata": {},
   "source": [
    "## Checkpoint 1: string"
   ]
  },
  {
   "cell_type": "code",
   "execution_count": null,
   "id": "aea95530",
   "metadata": {},
   "outputs": [],
   "source": [
    "checkpoint_string = check_point(\"Checkpoint_String\", string_headers, loan_string_data)"
   ]
  }
 ],
 "metadata": {
  "kernelspec": {
   "display_name": "Python 3 (ipykernel)",
   "language": "python",
   "name": "python3"
  },
  "language_info": {
   "codemirror_mode": {
    "name": "ipython",
    "version": 3
   },
   "file_extension": ".py",
   "mimetype": "text/x-python",
   "name": "python",
   "nbconvert_exporter": "python",
   "pygments_lexer": "ipython3",
   "version": "3.10.6"
  }
 },
 "nbformat": 4,
 "nbformat_minor": 5
}
