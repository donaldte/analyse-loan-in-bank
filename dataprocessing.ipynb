{
 "cells": [
  {
   "cell_type": "code",
   "execution_count": 2,
   "id": "0121a23c",
   "metadata": {},
   "outputs": [],
   "source": [
    "import numpy as np\n",
    "import pandas as pd\n",
    "from numpy.random import shuffle\n",
    "from numpy.random import Generator as gen \n",
    "from numpy.random import PCG64 as pcg\n"
   ]
  },
  {
   "cell_type": "code",
   "execution_count": 3,
   "id": "870aefb2",
   "metadata": {},
   "outputs": [],
   "source": [
    "np.set_printoptions(suppress=True, linewidth=100, precision=2)"
   ]
  },
  {
   "cell_type": "markdown",
   "id": "e536e934",
   "metadata": {},
   "source": [
    "# Importing data"
   ]
  },
  {
   "cell_type": "code",
   "execution_count": 4,
   "id": "fffbe335",
   "metadata": {},
   "outputs": [
    {
     "data": {
      "text/plain": [
       "array([[48010226.  ,         nan,    35000.  , ...,         nan,         nan,     9452.96],\n",
       "       [57693261.  ,         nan,    30000.  , ...,         nan,         nan,     4679.7 ],\n",
       "       [59432726.  ,         nan,    15000.  , ...,         nan,         nan,     1969.83],\n",
       "       ...,\n",
       "       [50415990.  ,         nan,    10000.  , ...,         nan,         nan,     2185.64],\n",
       "       [46154151.  ,         nan,         nan, ...,         nan,         nan,     3199.4 ],\n",
       "       [66055249.  ,         nan,    10000.  , ...,         nan,         nan,      301.9 ]])"
      ]
     },
     "execution_count": 4,
     "metadata": {},
     "output_type": "execute_result"
    }
   ],
   "source": [
    "raw_data = np.genfromtxt('data/loan-data.csv', delimiter=\";\", skip_header = 1, autostrip = True, encoding = \"cp855\")\n",
    "raw_data"
   ]
  },
  {
   "cell_type": "markdown",
   "id": "2cb92b83",
   "metadata": {},
   "source": [
    "# Checking data"
   ]
  },
  {
   "cell_type": "code",
   "execution_count": 5,
   "id": "17584570",
   "metadata": {},
   "outputs": [
    {
     "data": {
      "text/plain": [
       "88005"
      ]
     },
     "execution_count": 5,
     "metadata": {},
     "output_type": "execute_result"
    }
   ],
   "source": [
    "np.isnan(raw_data).sum()"
   ]
  },
  {
   "cell_type": "code",
   "execution_count": 6,
   "id": "fa1171a9",
   "metadata": {},
   "outputs": [
    {
     "name": "stderr",
     "output_type": "stream",
     "text": [
      "/tmp/ipykernel_3906871/2718681720.py:1: RuntimeWarning: Mean of empty slice\n",
      "  temporary_mean = np.nanmean(raw_data, axis=0)\n",
      "/tmp/ipykernel_3906871/2718681720.py:6: RuntimeWarning: All-NaN slice encountered\n",
      "  temporary_stats = np.array([np.nanmin(raw_data, axis=0), temporary_mean, np.nanmax(raw_data, axis=0)])\n"
     ]
    },
    {
     "data": {
      "text/plain": [
       "array([[  373332.  ,         nan,     1000.  ,         nan,     1000.  ,         nan,        6.  ,\n",
       "              31.42,         nan,         nan,         nan,         nan,         nan,        0.  ],\n",
       "       [54015809.19,         nan,    15273.46,         nan,    15311.04,         nan,       16.62,\n",
       "             440.92,         nan,         nan,         nan,         nan,         nan,     3143.85],\n",
       "       [68616519.  ,         nan,    35000.  ,         nan,    35000.  ,         nan,       28.99,\n",
       "            1372.97,         nan,         nan,         nan,         nan,         nan,    41913.62]])"
      ]
     },
     "execution_count": 6,
     "metadata": {},
     "output_type": "execute_result"
    }
   ],
   "source": [
    "temporary_mean = np.nanmean(raw_data, axis=0)\n",
    "\n",
    "temporary_fill= np.nanmax(raw_data) + 1\n",
    "\n",
    "\n",
    "temporary_stats = np.array([np.nanmin(raw_data, axis=0), temporary_mean, np.nanmax(raw_data, axis=0)])\n",
    "\n",
    "temporary_stats"
   ]
  },
  {
   "cell_type": "markdown",
   "id": "27da40e4",
   "metadata": {},
   "source": [
    "# Splitting "
   ]
  },
  {
   "cell_type": "code",
   "execution_count": 7,
   "id": "1505317d",
   "metadata": {},
   "outputs": [
    {
     "data": {
      "text/plain": [
       "array([ 1,  3,  5,  8,  9, 10, 11, 12])"
      ]
     },
     "execution_count": 7,
     "metadata": {},
     "output_type": "execute_result"
    }
   ],
   "source": [
    "columns_string = np.argwhere(np.isnan(temporary_mean)).squeeze()\n",
    "columns_string"
   ]
  },
  {
   "cell_type": "code",
   "execution_count": 10,
   "id": "a3409f4f",
   "metadata": {},
   "outputs": [
    {
     "data": {
      "text/plain": [
       "array([ 0,  2,  4,  6,  7, 13])"
      ]
     },
     "execution_count": 10,
     "metadata": {},
     "output_type": "execute_result"
    }
   ],
   "source": [
    "columns_numeric = np.argwhere(np.isnan(temporary_mean)==False).squeeze()\n",
    "columns_numeric"
   ]
  },
  {
   "cell_type": "markdown",
   "id": "c3315edc",
   "metadata": {},
   "source": [
    "# Re-importing data seprately"
   ]
  },
  {
   "cell_type": "code",
   "execution_count": 11,
   "id": "74a29b8a",
   "metadata": {},
   "outputs": [
    {
     "data": {
      "text/plain": [
       "array([['May-15', 'Current', ' 36 months', ..., 'Verified',\n",
       "        'https://www.lendingclub.com/browse/loanDetail.action?loan_id=48010226', 'CA'],\n",
       "       ['', 'Current', ' 36 months', ..., 'Source Verified',\n",
       "        'https://www.lendingclub.com/browse/loanDetail.action?loan_id=57693261', 'NY'],\n",
       "       ['Sep-15', 'Current', ' 36 months', ..., 'Verified',\n",
       "        'https://www.lendingclub.com/browse/loanDetail.action?loan_id=59432726', 'PA'],\n",
       "       ...,\n",
       "       ['Jun-15', 'Current', ' 36 months', ..., 'Source Verified',\n",
       "        'https://www.lendingclub.com/browse/loanDetail.action?loan_id=50415990', 'CA'],\n",
       "       ['Apr-15', 'Current', ' 36 months', ..., 'Source Verified',\n",
       "        'https://www.lendingclub.com/browse/loanDetail.action?loan_id=46154151', 'OH'],\n",
       "       ['Dec-15', 'Current', ' 36 months', ..., '',\n",
       "        'https://www.lendingclub.com/browse/loanDetail.action?loan_id=66055249', 'IL']],\n",
       "      dtype='<U69')"
      ]
     },
     "execution_count": 11,
     "metadata": {},
     "output_type": "execute_result"
    }
   ],
   "source": [
    "loan_string_data = np.genfromtxt('data/loan-data.csv', delimiter=\";\", skip_header=1, \n",
    "                            usecols=columns_string, encoding=\"cp855\", dtype=np.str_)\n",
    "loan_string_data"
   ]
  },
  {
   "cell_type": "code",
   "execution_count": 13,
   "id": "fee62254",
   "metadata": {},
   "outputs": [
    {
     "data": {
      "text/plain": [
       "array([[48010226.  ,    35000.  ,    35000.  ,       13.33,     1184.86,     9452.96],\n",
       "       [57693261.  ,    30000.  ,    30000.  , 68616520.  ,      938.57,     4679.7 ],\n",
       "       [59432726.  ,    15000.  ,    15000.  , 68616520.  ,      494.86,     1969.83],\n",
       "       ...,\n",
       "       [50415990.  ,    10000.  ,    10000.  , 68616520.  , 68616520.  ,     2185.64],\n",
       "       [46154151.  , 68616520.  ,    10000.  ,       16.55,      354.3 ,     3199.4 ],\n",
       "       [66055249.  ,    10000.  ,    10000.  , 68616520.  ,      309.97,      301.9 ]])"
      ]
     },
     "execution_count": 13,
     "metadata": {},
     "output_type": "execute_result"
    }
   ],
   "source": [
    "loan_numeric_data = np.genfromtxt('data/loan-data.csv', delimiter=\";\", skip_header=1, \n",
    "                            usecols=columns_numeric, encoding=\"cp855\", filling_values=temporary_fill)\n",
    "loan_numeric_data"
   ]
  },
  {
   "cell_type": "markdown",
   "id": "450aad7f",
   "metadata": {},
   "source": [
    "# Rename columns"
   ]
  },
  {
   "cell_type": "code",
   "execution_count": 14,
   "id": "b5211b4b",
   "metadata": {},
   "outputs": [
    {
     "data": {
      "text/plain": [
       "array(['id', 'issue_d', 'loan_amnt', 'loan_status', 'funded_amnt', 'term', 'int_rate',\n",
       "       'installment', 'grade', 'sub_grade', 'verification_status', 'url', 'addr_state',\n",
       "       'total_pymnt'], dtype='<U19')"
      ]
     },
     "execution_count": 14,
     "metadata": {},
     "output_type": "execute_result"
    }
   ],
   "source": [
    "full_header = np.genfromtxt('data/loan-data.csv', delimiter=\";\", skip_footer=raw_data.shape[0], \n",
    "                            encoding=\"cp855\", dtype=np.str_)\n",
    "full_header"
   ]
  },
  {
   "cell_type": "code",
   "execution_count": 15,
   "id": "30f08032",
   "metadata": {},
   "outputs": [],
   "source": [
    "string_headers, numeric_headers = full_header[columns_string], full_header[columns_numeric]\n",
    "    "
   ]
  },
  {
   "cell_type": "code",
   "execution_count": 16,
   "id": "990aec21",
   "metadata": {},
   "outputs": [
    {
     "data": {
      "text/plain": [
       "array(['issue_d', 'loan_status', 'term', 'grade', 'sub_grade', 'verification_status', 'url',\n",
       "       'addr_state'], dtype='<U19')"
      ]
     },
     "execution_count": 16,
     "metadata": {},
     "output_type": "execute_result"
    }
   ],
   "source": [
    "string_headers"
   ]
  },
  {
   "cell_type": "code",
   "execution_count": 17,
   "id": "52f830e7",
   "metadata": {},
   "outputs": [
    {
     "data": {
      "text/plain": [
       "array(['id', 'loan_amnt', 'funded_amnt', 'int_rate', 'installment', 'total_pymnt'], dtype='<U19')"
      ]
     },
     "execution_count": 17,
     "metadata": {},
     "output_type": "execute_result"
    }
   ],
   "source": [
    "numeric_headers"
   ]
  },
  {
   "cell_type": "markdown",
   "id": "59e3002d",
   "metadata": {},
   "source": [
    "# Creating checkpoint"
   ]
  },
  {
   "cell_type": "code",
   "execution_count": 18,
   "id": "3bb06f44",
   "metadata": {},
   "outputs": [],
   "source": [
    "def check_point(filename, checkpoint_header, checkpoint_data):\n",
    "    np.savez(file=filename, header=checkpoint_header, data=checkpoint_data)\n",
    "    variable_checkpoint = np.load(\"{}.npz\".format(filename))\n",
    "    return (variable_checkpoint)"
   ]
  },
  {
   "cell_type": "code",
   "execution_count": 19,
   "id": "ecedfeaa",
   "metadata": {},
   "outputs": [],
   "source": [
    "check_point_test = check_point('loan_string_data', string_headers, loan_string_data)"
   ]
  },
  {
   "cell_type": "code",
   "execution_count": 20,
   "id": "a5f46e8f",
   "metadata": {},
   "outputs": [
    {
     "data": {
      "text/plain": [
       "array([['May-15', 'Current', ' 36 months', ..., 'Verified',\n",
       "        'https://www.lendingclub.com/browse/loanDetail.action?loan_id=48010226', 'CA'],\n",
       "       ['', 'Current', ' 36 months', ..., 'Source Verified',\n",
       "        'https://www.lendingclub.com/browse/loanDetail.action?loan_id=57693261', 'NY'],\n",
       "       ['Sep-15', 'Current', ' 36 months', ..., 'Verified',\n",
       "        'https://www.lendingclub.com/browse/loanDetail.action?loan_id=59432726', 'PA'],\n",
       "       ...,\n",
       "       ['Jun-15', 'Current', ' 36 months', ..., 'Source Verified',\n",
       "        'https://www.lendingclub.com/browse/loanDetail.action?loan_id=50415990', 'CA'],\n",
       "       ['Apr-15', 'Current', ' 36 months', ..., 'Source Verified',\n",
       "        'https://www.lendingclub.com/browse/loanDetail.action?loan_id=46154151', 'OH'],\n",
       "       ['Dec-15', 'Current', ' 36 months', ..., '',\n",
       "        'https://www.lendingclub.com/browse/loanDetail.action?loan_id=66055249', 'IL']],\n",
       "      dtype='<U69')"
      ]
     },
     "execution_count": 20,
     "metadata": {},
     "output_type": "execute_result"
    }
   ],
   "source": [
    "check_point_test['data']"
   ]
  },
  {
   "cell_type": "markdown",
   "id": "b345822d",
   "metadata": {},
   "source": [
    "# Manipulation String Columns"
   ]
  },
  {
   "cell_type": "code",
   "execution_count": 21,
   "id": "b023a096",
   "metadata": {},
   "outputs": [
    {
     "data": {
      "text/plain": [
       "array(['issue_d', 'loan_status', 'term', 'grade', 'sub_grade', 'verification_status', 'url',\n",
       "       'addr_state'], dtype='<U19')"
      ]
     },
     "execution_count": 21,
     "metadata": {},
     "output_type": "execute_result"
    }
   ],
   "source": [
    "string_headers"
   ]
  },
  {
   "cell_type": "code",
   "execution_count": 23,
   "id": "dd3553b8",
   "metadata": {},
   "outputs": [],
   "source": [
    "string_headers[0] = 'issue_date'"
   ]
  },
  {
   "cell_type": "markdown",
   "id": "f71e7bad",
   "metadata": {},
   "source": [
    "### Issue data"
   ]
  },
  {
   "cell_type": "code",
   "execution_count": 24,
   "id": "8b7fa4f2",
   "metadata": {},
   "outputs": [
    {
     "data": {
      "text/plain": [
       "array(['', 'Apr-15', 'Aug-15', 'Dec-15', 'Feb-15', 'Jan-15', 'Jul-15', 'Jun-15', 'Mar-15',\n",
       "       'May-15', 'Nov-15', 'Oct-15', 'Sep-15'], dtype='<U69')"
      ]
     },
     "execution_count": 24,
     "metadata": {},
     "output_type": "execute_result"
    }
   ],
   "source": [
    "np.unique(loan_string_data[:,0])"
   ]
  },
  {
   "cell_type": "code",
   "execution_count": 25,
   "id": "24e6cc92",
   "metadata": {},
   "outputs": [
    {
     "data": {
      "text/plain": [
       "array(['May', '', 'Sep', ..., 'Jun', 'Apr', 'Dec'], dtype='<U69')"
      ]
     },
     "execution_count": 25,
     "metadata": {},
     "output_type": "execute_result"
    }
   ],
   "source": [
    "loan_string_data[:,0] = np.chararray.strip(loan_string_data[:, 0], '-15')\n",
    "loan_string_data[:,0]"
   ]
  },
  {
   "cell_type": "code",
   "execution_count": 26,
   "id": "336313fd",
   "metadata": {},
   "outputs": [],
   "source": [
    "months = np.array(['', 'Jan', 'Feb', 'Mar', \"Apr\", \"May\", \"Jun\", \"Jul\", \"Aug\", \"Sep\", \"Oct\", \"Nov\", \"Dec\"])"
   ]
  },
  {
   "cell_type": "code",
   "execution_count": 27,
   "id": "d9082c18",
   "metadata": {},
   "outputs": [
    {
     "data": {
      "text/plain": [
       "array(['5', '0', '9', ..., '6', '4', '12'], dtype='<U69')"
      ]
     },
     "execution_count": 27,
     "metadata": {},
     "output_type": "execute_result"
    }
   ],
   "source": [
    "for i in range(13):\n",
    "    loan_string_data[:,0] = np.where(loan_string_data[:,0]==months[i],i, loan_string_data[:,0])\n",
    "    \n",
    "loan_string_data[:, 0]    "
   ]
  },
  {
   "cell_type": "markdown",
   "id": "63fdc30e",
   "metadata": {},
   "source": [
    "### Loan Status"
   ]
  },
  {
   "cell_type": "code",
   "execution_count": 28,
   "id": "f3362527",
   "metadata": {},
   "outputs": [
    {
     "data": {
      "text/plain": [
       "array(['', 'Charged Off', 'Current', 'Default', 'Fully Paid', 'In Grace Period', 'Issued',\n",
       "       'Late (16-30 days)', 'Late (31-120 days)'], dtype='<U69')"
      ]
     },
     "execution_count": 28,
     "metadata": {},
     "output_type": "execute_result"
    }
   ],
   "source": [
    "np.unique(loan_string_data[:,1])"
   ]
  },
  {
   "cell_type": "code",
   "execution_count": 29,
   "id": "75c99d02",
   "metadata": {},
   "outputs": [],
   "source": [
    "bad_status = np.array(['Charged Off', \"Default\", \"Late (31-120 days)\"])"
   ]
  },
  {
   "cell_type": "code",
   "execution_count": 30,
   "id": "d86c0353",
   "metadata": {},
   "outputs": [],
   "source": [
    "loan_string_data[:,1] = np.where(np.isin(loan_string_data[:,1], bad_status), 0, 1)"
   ]
  },
  {
   "cell_type": "code",
   "execution_count": 31,
   "id": "0b3fda0d",
   "metadata": {},
   "outputs": [
    {
     "data": {
      "text/plain": [
       "array(['1', '1', '1', ..., '1', '1', '1'], dtype='<U69')"
      ]
     },
     "execution_count": 31,
     "metadata": {},
     "output_type": "execute_result"
    }
   ],
   "source": [
    "loan_string_data[:, 1]"
   ]
  },
  {
   "cell_type": "markdown",
   "id": "d44eab5d",
   "metadata": {},
   "source": [
    "### Terms "
   ]
  },
  {
   "cell_type": "code",
   "execution_count": 32,
   "id": "8e2d1b0c",
   "metadata": {},
   "outputs": [
    {
     "data": {
      "text/plain": [
       "array(['issue_date', 'loan_status', 'term', 'grade', 'sub_grade', 'verification_status', 'url',\n",
       "       'addr_state'], dtype='<U19')"
      ]
     },
     "execution_count": 32,
     "metadata": {},
     "output_type": "execute_result"
    }
   ],
   "source": [
    "string_headers"
   ]
  },
  {
   "cell_type": "code",
   "execution_count": 33,
   "id": "7e0c946b",
   "metadata": {},
   "outputs": [],
   "source": [
    "string_headers[2] = \"terms months\""
   ]
  },
  {
   "cell_type": "code",
   "execution_count": null,
   "id": "b36881dc",
   "metadata": {},
   "outputs": [],
   "source": [
    "np.unique(loan_string_data[:,2])"
   ]
  },
  {
   "cell_type": "code",
   "execution_count": 34,
   "id": "e0dfbd54",
   "metadata": {},
   "outputs": [
    {
     "data": {
      "text/plain": [
       "array(['36', '36', '36', ..., '36', '36', '36'], dtype='<U69')"
      ]
     },
     "execution_count": 34,
     "metadata": {},
     "output_type": "execute_result"
    }
   ],
   "source": [
    "loan_string_data[:,2] = np.chararray.strip(loan_string_data[:,2], \" months \")\n",
    "loan_string_data[:, 2]"
   ]
  },
  {
   "cell_type": "code",
   "execution_count": 35,
   "id": "0574cecc",
   "metadata": {},
   "outputs": [],
   "source": [
    "loan_string_data[:,2] = np.where(loan_string_data[:,2]=='', '60', loan_string_data[:,2])"
   ]
  },
  {
   "cell_type": "code",
   "execution_count": 36,
   "id": "d63cafd4",
   "metadata": {},
   "outputs": [
    {
     "data": {
      "text/plain": [
       "array(['36', '36', '36', ..., '36', '36', '36'], dtype='<U69')"
      ]
     },
     "execution_count": 36,
     "metadata": {},
     "output_type": "execute_result"
    }
   ],
   "source": [
    "loan_string_data[:, 2]"
   ]
  },
  {
   "cell_type": "markdown",
   "id": "c31b14e2",
   "metadata": {},
   "source": [
    "### Grade and Sub-Grade"
   ]
  },
  {
   "cell_type": "code",
   "execution_count": 37,
   "id": "25441f82",
   "metadata": {},
   "outputs": [
    {
     "data": {
      "text/plain": [
       "array(['issue_date', 'loan_status', 'terms months', 'grade', 'sub_grade', 'verification_status',\n",
       "       'url', 'addr_state'], dtype='<U19')"
      ]
     },
     "execution_count": 37,
     "metadata": {},
     "output_type": "execute_result"
    }
   ],
   "source": [
    "string_headers"
   ]
  },
  {
   "cell_type": "code",
   "execution_count": 39,
   "id": "0386da6f",
   "metadata": {},
   "outputs": [
    {
     "data": {
      "text/plain": [
       "array(['', 'A', 'B', 'C', 'D', 'E', 'F', 'G'], dtype='<U69')"
      ]
     },
     "execution_count": 39,
     "metadata": {},
     "output_type": "execute_result"
    }
   ],
   "source": [
    "np.unique(loan_string_data[:, 3])"
   ]
  },
  {
   "cell_type": "code",
   "execution_count": 54,
   "id": "9b6553af",
   "metadata": {},
   "outputs": [
    {
     "data": {
      "text/plain": [
       "(array(['', 'A1', 'A2', 'A3', 'A4', 'A5', 'B1', 'B2', 'B3', 'B4', 'B5', 'C1', 'C2', 'C3', 'C4',\n",
       "        'C5', 'D1', 'D2', 'D3', 'D4', 'D5', 'E1', 'E2', 'E3', 'E4', 'E5', 'F1', 'F2', 'F3', 'F4',\n",
       "        'F5', 'G1', 'G2', 'G3', 'G4', 'G5'], dtype='<U69'),\n",
       " array([  9, 285, 278, 239, 323, 592, 509, 517, 530, 553, 633, 629, 567, 586, 564, 577, 391, 267,\n",
       "        250, 255, 288, 235, 162, 171, 139, 160,  94,  52,  34,  43,  24,  19,  10,   3,   7,   5]))"
      ]
     },
     "execution_count": 54,
     "metadata": {},
     "output_type": "execute_result"
    }
   ],
   "source": [
    "np.unique(loan_string_data[:, 4], return_counts=True)"
   ]
  },
  {
   "cell_type": "markdown",
   "id": "975461ef",
   "metadata": {},
   "source": [
    " ### Filling Subgrade"
   ]
  },
  {
   "cell_type": "code",
   "execution_count": 55,
   "id": "df6ce008",
   "metadata": {},
   "outputs": [
    {
     "data": {
      "text/plain": [
       "(array(['', 'A1', 'A2', 'A3', 'A4', 'A5', 'B1', 'B2', 'B3', 'B4', 'B5', 'C1', 'C2', 'C3', 'C4',\n",
       "        'C5', 'D1', 'D2', 'D3', 'D4', 'D5', 'E1', 'E2', 'E3', 'E4', 'E5', 'F1', 'F2', 'F3', 'F4',\n",
       "        'F5', 'G1', 'G2', 'G3', 'G4', 'G5'], dtype='<U69'),\n",
       " array([  9, 285, 278, 239, 323, 592, 509, 517, 530, 553, 633, 629, 567, 586, 564, 577, 391, 267,\n",
       "        250, 255, 288, 235, 162, 171, 139, 160,  94,  52,  34,  43,  24,  19,  10,   3,   7,   5]))"
      ]
     },
     "execution_count": 55,
     "metadata": {},
     "output_type": "execute_result"
    }
   ],
   "source": [
    "for i in np.unique(loan_string_data[:, 3])[1:]:\n",
    "    loan_string_data[:,4] = np.where((loan_string_data[:, 4]=='') & (loan_string_data[:,3]==i), i + \"5\",\n",
    "                                    loan_string_data[:, 4])\n",
    "np.unique(loan_string_data[:,4], return_counts=True) "
   ]
  },
  {
   "cell_type": "code",
   "execution_count": 56,
   "id": "1833d70c",
   "metadata": {},
   "outputs": [
    {
     "data": {
      "text/plain": [
       "(array(['A1', 'A2', 'A3', 'A4', 'A5', 'B1', 'B2', 'B3', 'B4', 'B5', 'C1', 'C2', 'C3', 'C4', 'C5',\n",
       "        'D1', 'D2', 'D3', 'D4', 'D5', 'E1', 'E2', 'E3', 'E4', 'E5', 'F1', 'F2', 'F3', 'F4', 'F5',\n",
       "        'G1', 'G2', 'G3', 'G4', 'G5', 'H1'], dtype='<U69'),\n",
       " array([285, 278, 239, 323, 592, 509, 517, 530, 553, 633, 629, 567, 586, 564, 577, 391, 267, 250,\n",
       "        255, 288, 235, 162, 171, 139, 160,  94,  52,  34,  43,  24,  19,  10,   3,   7,   5,   9]))"
      ]
     },
     "execution_count": 56,
     "metadata": {},
     "output_type": "execute_result"
    }
   ],
   "source": [
    "loan_string_data[:,4] = np.where(loan_string_data[:, 4]=='', \"H1\",\n",
    "                                    loan_string_data[:, 4])\n",
    "np.unique(loan_string_data[:,4], return_counts=True) "
   ]
  },
  {
   "cell_type": "markdown",
   "id": "207bfb42",
   "metadata": {},
   "source": [
    "### Removing grade columns"
   ]
  },
  {
   "cell_type": "code",
   "execution_count": 58,
   "id": "affe7e42",
   "metadata": {},
   "outputs": [],
   "source": [
    "loan_string_data = np.delete(loan_string_data, 3, axis=1)"
   ]
  },
  {
   "cell_type": "code",
   "execution_count": 59,
   "id": "374c4435",
   "metadata": {},
   "outputs": [
    {
     "data": {
      "text/plain": [
       "array(['C3', 'A5', 'B5', ..., 'A5', 'D2', 'A4'], dtype='<U69')"
      ]
     },
     "execution_count": 59,
     "metadata": {},
     "output_type": "execute_result"
    }
   ],
   "source": [
    "loan_string_data[:,3]"
   ]
  },
  {
   "cell_type": "code",
   "execution_count": 61,
   "id": "6949c37a",
   "metadata": {},
   "outputs": [
    {
     "data": {
      "text/plain": [
       "'sub_grade'"
      ]
     },
     "execution_count": 61,
     "metadata": {},
     "output_type": "execute_result"
    }
   ],
   "source": [
    "string_headers = np.delete(string_headers, 3)\n",
    "string_headers[3]"
   ]
  },
  {
   "cell_type": "markdown",
   "id": "e8f8eaa3",
   "metadata": {},
   "source": [
    "### Converting sub-grade to number"
   ]
  },
  {
   "cell_type": "code",
   "execution_count": 67,
   "id": "a7fc859a",
   "metadata": {},
   "outputs": [
    {
     "data": {
      "text/plain": [
       "(array(['A1', 'A2', 'A3', 'A4', 'A5', 'B1', 'B2', 'B3', 'B4', 'B5', 'C1', 'C2', 'C3', 'C4', 'C5',\n",
       "        'D1', 'D2', 'D3', 'D4', 'D5', 'E1', 'E2', 'E3', 'E4', 'E5', 'F1', 'F2', 'F3', 'F4', 'F5',\n",
       "        'G1', 'G2', 'G3', 'G4', 'G5', 'H1'], dtype='<U69'),\n",
       " array([285, 278, 239, 323, 592, 509, 517, 530, 553, 633, 629, 567, 586, 564, 577, 391, 267, 250,\n",
       "        255, 288, 235, 162, 171, 139, 160,  94,  52,  34,  43,  24,  19,  10,   3,   7,   5,   9]))"
      ]
     },
     "execution_count": 67,
     "metadata": {},
     "output_type": "execute_result"
    }
   ],
   "source": [
    "np.unique(loan_string_data[:, 3], return_counts=True)"
   ]
  },
  {
   "cell_type": "code",
   "execution_count": 64,
   "id": "871c4aaa",
   "metadata": {},
   "outputs": [],
   "source": [
    "keys = list(np.unique(loan_string_data[:, 3]))\n",
    "values = list(range(1, np.unique(loan_string_data[:, 3]).shape[0] + 1))\n",
    "dict_sub_grade = dict(zip(keys, values))"
   ]
  },
  {
   "cell_type": "code",
   "execution_count": 65,
   "id": "77cf7149",
   "metadata": {},
   "outputs": [
    {
     "data": {
      "text/plain": [
       "{'A1': 1,\n",
       " 'A2': 2,\n",
       " 'A3': 3,\n",
       " 'A4': 4,\n",
       " 'A5': 5,\n",
       " 'B1': 6,\n",
       " 'B2': 7,\n",
       " 'B3': 8,\n",
       " 'B4': 9,\n",
       " 'B5': 10,\n",
       " 'C1': 11,\n",
       " 'C2': 12,\n",
       " 'C3': 13,\n",
       " 'C4': 14,\n",
       " 'C5': 15,\n",
       " 'D1': 16,\n",
       " 'D2': 17,\n",
       " 'D3': 18,\n",
       " 'D4': 19,\n",
       " 'D5': 20,\n",
       " 'E1': 21,\n",
       " 'E2': 22,\n",
       " 'E3': 23,\n",
       " 'E4': 24,\n",
       " 'E5': 25,\n",
       " 'F1': 26,\n",
       " 'F2': 27,\n",
       " 'F3': 28,\n",
       " 'F4': 29,\n",
       " 'F5': 30,\n",
       " 'G1': 31,\n",
       " 'G2': 32,\n",
       " 'G3': 33,\n",
       " 'G4': 34,\n",
       " 'G5': 35,\n",
       " 'H1': 36}"
      ]
     },
     "execution_count": 65,
     "metadata": {},
     "output_type": "execute_result"
    }
   ],
   "source": [
    "dict_sub_grade"
   ]
  },
  {
   "cell_type": "code",
   "execution_count": 69,
   "id": "857d05e1",
   "metadata": {},
   "outputs": [
    {
     "data": {
      "text/plain": [
       "array(['13', '5', '10', ..., '5', '17', '4'], dtype='<U69')"
      ]
     },
     "execution_count": 69,
     "metadata": {},
     "output_type": "execute_result"
    }
   ],
   "source": [
    "for i in keys:\n",
    "    loan_string_data[:,3] = np.where(loan_string_data[:, 3]==i, dict_sub_grade[i], loan_string_data[:,3])\n",
    "\n",
    "loan_string_data[:, 3]    "
   ]
  },
  {
   "cell_type": "markdown",
   "id": "e790b55d",
   "metadata": {},
   "source": [
    "### Verification Status"
   ]
  },
  {
   "cell_type": "code",
   "execution_count": null,
   "id": "9a398c99",
   "metadata": {},
   "outputs": [],
   "source": []
  }
 ],
 "metadata": {
  "kernelspec": {
   "display_name": "Python 3 (ipykernel)",
   "language": "python",
   "name": "python3"
  },
  "language_info": {
   "codemirror_mode": {
    "name": "ipython",
    "version": 3
   },
   "file_extension": ".py",
   "mimetype": "text/x-python",
   "name": "python",
   "nbconvert_exporter": "python",
   "pygments_lexer": "ipython3",
   "version": "3.10.6"
  }
 },
 "nbformat": 4,
 "nbformat_minor": 5
}
